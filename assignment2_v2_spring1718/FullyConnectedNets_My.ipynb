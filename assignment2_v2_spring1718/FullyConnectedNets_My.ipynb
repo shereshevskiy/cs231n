{
 "cells": [
  {
   "cell_type": "markdown",
   "metadata": {
    "colab_type": "text",
    "id": "wkriLz8SX1w6"
   },
   "source": [
    "# Fully-Connected Neural Nets\n",
    "In the previous homework you implemented a fully-connected two-layer neural network on CIFAR-10. The implementation was simple but not very modular since the loss and gradient were computed in a single monolithic function. This is manageable for a simple two-layer network, but would become impractical as we move to bigger models. Ideally we want to build networks using a more modular design so that we can implement different layer types in isolation and then snap them together into models with different architectures.\n",
    "\n",
    "In this exercise we will implement fully-connected networks using a more modular approach. For each layer we will implement a `forward` and a `backward` function. The `forward` function will receive inputs, weights, and other parameters and will return both an output and a `cache` object storing data needed for the backward pass, like this:\n",
    "\n",
    "```python\n",
    "def layer_forward(x, w):\n",
    "  \"\"\" Receive inputs x and weights w \"\"\"\n",
    "  # Do some computations ...\n",
    "  z = # ... some intermediate value\n",
    "  # Do some more computations ...\n",
    "  out = # the output\n",
    "   \n",
    "  cache = (x, w, z, out) # Values we need to compute gradients\n",
    "   \n",
    "  return out, cache\n",
    "```\n",
    "\n",
    "The backward pass will receive upstream derivatives and the `cache` object, and will return gradients with respect to the inputs and weights, like this:\n",
    "\n",
    "```python\n",
    "def layer_backward(dout, cache):\n",
    "  \"\"\"\n",
    "  Receive dout (derivative of loss with respect to outputs) and cache,\n",
    "  and compute derivative with respect to inputs.\n",
    "  \"\"\"\n",
    "  # Unpack cache values\n",
    "  x, w, z, out = cache\n",
    "  \n",
    "  # Use values in cache to compute derivatives\n",
    "  dx = # Derivative of loss with respect to x\n",
    "  dw = # Derivative of loss with respect to w\n",
    "  \n",
    "  return dx, dw\n",
    "```\n",
    "\n",
    "After implementing a bunch of layers this way, we will be able to easily combine them to build classifiers with different architectures.\n",
    "\n",
    "In addition to implementing fully-connected networks of arbitrary depth, we will also explore different update rules for optimization, and introduce Dropout as a regularizer and Batch/Layer Normalization as a tool to more efficiently optimize deep networks.\n",
    "  "
   ]
  },
  {
   "cell_type": "code",
   "execution_count": 1,
   "metadata": {
    "colab": {
     "autoexec": {
      "startup": false,
      "wait_interval": 0
     },
     "base_uri": "https://localhost:8080/",
     "height": 363
    },
    "colab_type": "code",
    "executionInfo": {
     "elapsed": 1080,
     "status": "error",
     "timestamp": 1527353686491,
     "user": {
      "displayName": "Дмитрий Шерешевский",
      "photoUrl": "//lh6.googleusercontent.com/-I5MhctR-u6g/AAAAAAAAAAI/AAAAAAAAAAA/czktGiUtM7I/s50-c-k-no/photo.jpg",
      "userId": "117915958410313505329"
     },
     "user_tz": -180
    },
    "id": "zv1PETLpX1w8",
    "outputId": "5410d49c-9ae5-47d4-ce11-1ff05df3d7ec"
   },
   "outputs": [
    {
     "name": "stdout",
     "output_type": "stream",
     "text": [
      "run the following from the cs231n directory and try again:\n",
      "python setup.py build_ext --inplace\n",
      "You may also need to restart your iPython kernel\n"
     ]
    }
   ],
   "source": [
    "# As usual, a bit of setup\n",
    "from __future__ import print_function\n",
    "import time\n",
    "import numpy as np\n",
    "import matplotlib.pyplot as plt\n",
    "from cs231n.classifiers.fc_net import *\n",
    "from cs231n.data_utils import get_CIFAR10_data\n",
    "from cs231n.gradient_check import eval_numerical_gradient, eval_numerical_gradient_array\n",
    "from cs231n.solver import Solver\n",
    "\n",
    "%matplotlib inline\n",
    "plt.rcParams['figure.figsize'] = (10.0, 8.0) # set default size of plots\n",
    "plt.rcParams['image.interpolation'] = 'nearest'\n",
    "plt.rcParams['image.cmap'] = 'gray'\n",
    "\n",
    "# for auto-reloading external modules\n",
    "# see http://stackoverflow.com/questions/1907993/autoreload-of-modules-in-ipython\n",
    "%load_ext autoreload\n",
    "%autoreload 2\n",
    "\n",
    "def rel_error(x, y):\n",
    "  \"\"\" returns relative error \"\"\"\n",
    "  return np.max(np.abs(x - y) / (np.maximum(1e-8, np.abs(x) + np.abs(y))))"
   ]
  },
  {
   "cell_type": "code",
   "execution_count": 2,
   "metadata": {
    "colab": {
     "autoexec": {
      "startup": false,
      "wait_interval": 0
     }
    },
    "colab_type": "code",
    "id": "wIN0vzJWX1xH"
   },
   "outputs": [
    {
     "name": "stdout",
     "output_type": "stream",
     "text": [
      "('X_train: ', (49000, 3, 32, 32))\n",
      "('y_train: ', (49000,))\n",
      "('X_val: ', (1000, 3, 32, 32))\n",
      "('y_val: ', (1000,))\n",
      "('X_test: ', (1000, 3, 32, 32))\n",
      "('y_test: ', (1000,))\n"
     ]
    }
   ],
   "source": [
    "# Load the (preprocessed) CIFAR10 data.\n",
    "\n",
    "data = get_CIFAR10_data()\n",
    "for k, v in list(data.items()):\n",
    "  print(('%s: ' % k, v.shape))"
   ]
  },
  {
   "cell_type": "markdown",
   "metadata": {
    "colab_type": "text",
    "id": "CSzw19o-X1xM"
   },
   "source": [
    "# Affine layer: foward\n",
    "Open the file `cs231n/layers.py` and implement the `affine_forward` function.\n",
    "\n",
    "Once you are done you can test your implementaion by running the following:"
   ]
  },
  {
   "cell_type": "code",
   "execution_count": 3,
   "metadata": {
    "colab": {
     "autoexec": {
      "startup": false,
      "wait_interval": 0
     }
    },
    "colab_type": "code",
    "id": "hHAbVyePX1xN"
   },
   "outputs": [
    {
     "name": "stdout",
     "output_type": "stream",
     "text": [
      "Testing affine_forward function:\n",
      "difference:  9.769847728806635e-10\n"
     ]
    }
   ],
   "source": [
    "# Test the affine_forward function\n",
    "\n",
    "num_inputs = 2\n",
    "input_shape = (4, 5, 6)\n",
    "output_dim = 3\n",
    "\n",
    "input_size = num_inputs * np.prod(input_shape)\n",
    "weight_size = output_dim * np.prod(input_shape)\n",
    "\n",
    "x = np.linspace(-0.1, 0.5, num=input_size).reshape(num_inputs, *input_shape)\n",
    "w = np.linspace(-0.2, 0.3, num=weight_size).reshape(np.prod(input_shape), output_dim)\n",
    "b = np.linspace(-0.3, 0.1, num=output_dim)\n",
    "\n",
    "out, _ = affine_forward(x, w, b)\n",
    "correct_out = np.array([[ 1.49834967,  1.70660132,  1.91485297],\n",
    "                        [ 3.25553199,  3.5141327,   3.77273342]])\n",
    "\n",
    "# Compare your output with ours. The error should be around e-9 or less.\n",
    "print('Testing affine_forward function:')\n",
    "print('difference: ', rel_error(out, correct_out))"
   ]
  },
  {
   "cell_type": "markdown",
   "metadata": {
    "colab_type": "text",
    "id": "EbsYhT3HX1xS"
   },
   "source": [
    "# Affine layer: backward\n",
    "Now implement the `affine_backward` function and test your implementation using numeric gradient checking."
   ]
  },
  {
   "cell_type": "code",
   "execution_count": 4,
   "metadata": {
    "colab": {
     "autoexec": {
      "startup": false,
      "wait_interval": 0
     }
    },
    "colab_type": "code",
    "id": "kP7eROidX1xU"
   },
   "outputs": [
    {
     "name": "stdout",
     "output_type": "stream",
     "text": [
      "Testing affine_backward function:\n",
      "dx error:  5.399100368651805e-11\n",
      "dw error:  9.904211865398145e-11\n",
      "db error:  2.4122867568119087e-11\n"
     ]
    }
   ],
   "source": [
    "# Test the affine_backward function\n",
    "np.random.seed(231)\n",
    "x = np.random.randn(10, 2, 3)\n",
    "w = np.random.randn(6, 5)\n",
    "b = np.random.randn(5)\n",
    "dout = np.random.randn(10, 5)\n",
    "\n",
    "dx_num = eval_numerical_gradient_array(lambda x: affine_forward(x, w, b)[0], x, dout)\n",
    "dw_num = eval_numerical_gradient_array(lambda w: affine_forward(x, w, b)[0], w, dout)\n",
    "db_num = eval_numerical_gradient_array(lambda b: affine_forward(x, w, b)[0], b, dout)\n",
    "\n",
    "_, cache = affine_forward(x, w, b)\n",
    "dx, dw, db = affine_backward(dout, cache)\n",
    "\n",
    "# The error should be around e-10 or less\n",
    "print('Testing affine_backward function:')\n",
    "print('dx error: ', rel_error(dx_num, dx))\n",
    "print('dw error: ', rel_error(dw_num, dw))\n",
    "print('db error: ', rel_error(db_num, db))"
   ]
  },
  {
   "cell_type": "markdown",
   "metadata": {
    "colab_type": "text",
    "id": "HpogVfT6X1xY"
   },
   "source": [
    "# ReLU activation: forward\n",
    "Implement the forward pass for the ReLU activation function in the `relu_forward` function and test your implementation using the following:"
   ]
  },
  {
   "cell_type": "code",
   "execution_count": 5,
   "metadata": {
    "colab": {
     "autoexec": {
      "startup": false,
      "wait_interval": 0
     }
    },
    "colab_type": "code",
    "id": "IPvh4QvGX1xZ"
   },
   "outputs": [
    {
     "name": "stdout",
     "output_type": "stream",
     "text": [
      "Testing relu_forward function:\n",
      "difference:  4.999999798022158e-08\n"
     ]
    }
   ],
   "source": [
    "# Test the relu_forward function\n",
    "\n",
    "x = np.linspace(-0.5, 0.5, num=12).reshape(3, 4)\n",
    "\n",
    "out, _ = relu_forward(x)\n",
    "correct_out = np.array([[ 0.,          0.,          0.,          0.,        ],\n",
    "                        [ 0.,          0.,          0.04545455,  0.13636364,],\n",
    "                        [ 0.22727273,  0.31818182,  0.40909091,  0.5,       ]])\n",
    "\n",
    "# Compare your output with ours. The error should be on the order of e-8\n",
    "print('Testing relu_forward function:')\n",
    "print('difference: ', rel_error(out, correct_out))"
   ]
  },
  {
   "cell_type": "markdown",
   "metadata": {
    "colab_type": "text",
    "id": "wLKg014WX1xe"
   },
   "source": [
    "# ReLU activation: backward\n",
    "Now implement the backward pass for the ReLU activation function in the `relu_backward` function and test your implementation using numeric gradient checking:"
   ]
  },
  {
   "cell_type": "code",
   "execution_count": 6,
   "metadata": {
    "colab": {
     "autoexec": {
      "startup": false,
      "wait_interval": 0
     }
    },
    "colab_type": "code",
    "id": "B0dpuF-iX1xg"
   },
   "outputs": [
    {
     "name": "stdout",
     "output_type": "stream",
     "text": [
      "Testing relu_backward function:\n",
      "dx error:  3.2756349136310288e-12\n"
     ]
    }
   ],
   "source": [
    "np.random.seed(231)\n",
    "x = np.random.randn(10, 10)\n",
    "dout = np.random.randn(*x.shape)\n",
    "\n",
    "dx_num = eval_numerical_gradient_array(lambda x: relu_forward(x)[0], x, dout)\n",
    "\n",
    "_, cache = relu_forward(x)\n",
    "dx = relu_backward(dout, cache)\n",
    "\n",
    "# The error should be on the order of e-12\n",
    "print('Testing relu_backward function:')\n",
    "print('dx error: ', rel_error(dx_num, dx))"
   ]
  },
  {
   "cell_type": "markdown",
   "metadata": {
    "colab_type": "text",
    "id": "uZpRbh4MX1xk"
   },
   "source": [
    "## Inline Question 1: \n",
    "\n",
    "We've only asked you to implement ReLU, but there are a number of different activation functions that one could use in neural networks, each with its pros and cons. In particular, an issue commonly seen with activation functions is getting zero (or close to zero) gradient flow during backpropagation. Which of the following activation functions have this problem? If you consider these functions in the one dimensional case, what types of input would lead to this behaviour?\n",
    "1. Sigmoid\n",
    "2. ReLU\n",
    "3. Leaky ReLU"
   ]
  },
  {
   "cell_type": "markdown",
   "metadata": {
    "colab_type": "text",
    "id": "Q3fV3XJ1X1xl"
   },
   "source": [
    "## Answer:\n",
    "- Sigmoid - very big or very small values\n",
    "- ReLU - negativ values\n",
    "\n",
    "see http://datareview.info/article/eto-nuzhno-znat-klyuchevyie-rekomendatsii-po-glubokomu-obucheniyu-chast-2/\n",
    "\n"
   ]
  },
  {
   "cell_type": "markdown",
   "metadata": {
    "colab_type": "text",
    "id": "ZxzzHbX4X1xn"
   },
   "source": [
    "# \"Sandwich\" layers\n",
    "There are some common patterns of layers that are frequently used in neural nets. For example, affine layers are frequently followed by a ReLU nonlinearity. To make these common patterns easy, we define several convenience layers in the file `cs231n/layer_utils.py`.\n",
    "\n",
    "For now take a look at the `affine_relu_forward` and `affine_relu_backward` functions, and run the following to numerically gradient check the backward pass:"
   ]
  },
  {
   "cell_type": "code",
   "execution_count": 7,
   "metadata": {
    "colab": {
     "autoexec": {
      "startup": false,
      "wait_interval": 0
     }
    },
    "colab_type": "code",
    "id": "4Rv546GUX1xq"
   },
   "outputs": [
    {
     "name": "stdout",
     "output_type": "stream",
     "text": [
      "Testing affine_relu_forward and affine_relu_backward:\n",
      "dx error:  6.750562121603446e-11\n",
      "dw error:  8.162015570444288e-11\n",
      "db error:  7.826724021458994e-12\n"
     ]
    }
   ],
   "source": [
    "from cs231n.layer_utils import affine_relu_forward, affine_relu_backward\n",
    "np.random.seed(231)\n",
    "x = np.random.randn(2, 3, 4)\n",
    "w = np.random.randn(12, 10)\n",
    "b = np.random.randn(10)\n",
    "dout = np.random.randn(2, 10)\n",
    "\n",
    "out, cache = affine_relu_forward(x, w, b)\n",
    "dx, dw, db = affine_relu_backward(dout, cache)\n",
    "\n",
    "dx_num = eval_numerical_gradient_array(lambda x: affine_relu_forward(x, w, b)[0], x, dout)\n",
    "dw_num = eval_numerical_gradient_array(lambda w: affine_relu_forward(x, w, b)[0], w, dout)\n",
    "db_num = eval_numerical_gradient_array(lambda b: affine_relu_forward(x, w, b)[0], b, dout)\n",
    "\n",
    "# Relative error should be around e-10 or less\n",
    "print('Testing affine_relu_forward and affine_relu_backward:')\n",
    "print('dx error: ', rel_error(dx_num, dx))\n",
    "print('dw error: ', rel_error(dw_num, dw))\n",
    "print('db error: ', rel_error(db_num, db))"
   ]
  },
  {
   "cell_type": "markdown",
   "metadata": {
    "colab_type": "text",
    "id": "tQoNaD0eX1xv"
   },
   "source": [
    "# Loss layers: Softmax and SVM\n",
    "You implemented these loss functions in the last assignment, so we'll give them to you for free here. You should still make sure you understand how they work by looking at the implementations in `cs231n/layers.py`.\n",
    "\n",
    "You can make sure that the implementations are correct by running the following:"
   ]
  },
  {
   "cell_type": "code",
   "execution_count": 8,
   "metadata": {
    "colab": {
     "autoexec": {
      "startup": false,
      "wait_interval": 0
     }
    },
    "colab_type": "code",
    "id": "-fx2fR_qX1xw"
   },
   "outputs": [
    {
     "name": "stdout",
     "output_type": "stream",
     "text": [
      "Testing svm_loss:\n",
      "loss:  8.999602749096233\n",
      "dx error:  1.4021566006651672e-09\n",
      "\n",
      "Testing softmax_loss:\n",
      "loss:  2.302545844500738\n",
      "dx error:  9.384673161989355e-09\n"
     ]
    }
   ],
   "source": [
    "np.random.seed(231)\n",
    "num_classes, num_inputs = 10, 50\n",
    "x = 0.001 * np.random.randn(num_inputs, num_classes)\n",
    "y = np.random.randint(num_classes, size=num_inputs)\n",
    "\n",
    "dx_num = eval_numerical_gradient(lambda x: svm_loss(x, y)[0], x, verbose=False)\n",
    "loss, dx = svm_loss(x, y)\n",
    "\n",
    "# Test svm_loss function. Loss should be around 9 and dx error should be around the order of e-9\n",
    "print('Testing svm_loss:')\n",
    "print('loss: ', loss)\n",
    "print('dx error: ', rel_error(dx_num, dx))\n",
    "\n",
    "dx_num = eval_numerical_gradient(lambda x: softmax_loss(x, y)[0], x, verbose=False)\n",
    "loss, dx = softmax_loss(x, y)\n",
    "\n",
    "# Test softmax_loss function. Loss should be close to 2.3 and dx error should be around e-8\n",
    "print('\\nTesting softmax_loss:')\n",
    "print('loss: ', loss)\n",
    "print('dx error: ', rel_error(dx_num, dx))"
   ]
  },
  {
   "cell_type": "markdown",
   "metadata": {
    "colab_type": "text",
    "id": "JtSfdILDX1x1"
   },
   "source": [
    "# Two-layer network\n",
    "In the previous assignment you implemented a two-layer neural network in a single monolithic class. Now that you have implemented modular versions of the necessary layers, you will reimplement the two layer network using these modular implementations.\n",
    "\n",
    "Open the file `cs231n/classifiers/fc_net.py` and complete the implementation of the `TwoLayerNet` class. This class will serve as a model for the other networks you will implement in this assignment, so read through it to make sure you understand the API. You can run the cell below to test your implementation."
   ]
  },
  {
   "cell_type": "code",
   "execution_count": 9,
   "metadata": {
    "colab": {
     "autoexec": {
      "startup": false,
      "wait_interval": 0
     }
    },
    "colab_type": "code",
    "id": "sQHO-rpSX1x2"
   },
   "outputs": [
    {
     "name": "stdout",
     "output_type": "stream",
     "text": [
      "Testing initialization ... \n",
      "Testing test-time forward pass ... \n",
      "Testing training loss (no regularization)\n",
      "Running numeric gradient check with reg =  0.0\n",
      "W1 relative error: 1.52e-08\n",
      "W2 relative error: 3.48e-10\n",
      "b1 relative error: 6.55e-09\n",
      "b2 relative error: 4.33e-10\n",
      "Running numeric gradient check with reg =  0.7\n",
      "W1 relative error: 8.18e-07\n",
      "W2 relative error: 2.85e-08\n",
      "b1 relative error: 1.09e-09\n",
      "b2 relative error: 7.76e-10\n"
     ]
    }
   ],
   "source": [
    "np.random.seed(231)\n",
    "N, D, H, C = 3, 5, 50, 7\n",
    "X = np.random.randn(N, D)\n",
    "y = np.random.randint(C, size=N)\n",
    "\n",
    "std = 1e-3\n",
    "model = TwoLayerNet(input_dim=D, hidden_dim=H, num_classes=C, weight_scale=std)\n",
    "\n",
    "print('Testing initialization ... ')\n",
    "W1_std = abs(model.params['W1'].std() - std)\n",
    "b1 = model.params['b1']\n",
    "W2_std = abs(model.params['W2'].std() - std)\n",
    "b2 = model.params['b2']\n",
    "assert W1_std < std / 10, 'First layer weights do not seem right'\n",
    "assert np.all(b1 == 0), 'First layer biases do not seem right'\n",
    "assert W2_std < std / 10, 'Second layer weights do not seem right'\n",
    "assert np.all(b2 == 0), 'Second layer biases do not seem right'\n",
    "\n",
    "print('Testing test-time forward pass ... ')\n",
    "model.params['W1'] = np.linspace(-0.7, 0.3, num=D*H).reshape(D, H)\n",
    "model.params['b1'] = np.linspace(-0.1, 0.9, num=H)\n",
    "model.params['W2'] = np.linspace(-0.3, 0.4, num=H*C).reshape(H, C)\n",
    "model.params['b2'] = np.linspace(-0.9, 0.1, num=C)\n",
    "X = np.linspace(-5.5, 4.5, num=N*D).reshape(D, N).T\n",
    "scores = model.loss(X)\n",
    "correct_scores = np.asarray(\n",
    "  [[11.53165108,  12.2917344,   13.05181771,  13.81190102,  14.57198434, 15.33206765,  16.09215096],\n",
    "   [12.05769098,  12.74614105,  13.43459113,  14.1230412,   14.81149128, 15.49994135,  16.18839143],\n",
    "   [12.58373087,  13.20054771,  13.81736455,  14.43418138,  15.05099822, 15.66781506,  16.2846319 ]])\n",
    "scores_diff = np.abs(scores - correct_scores).sum()\n",
    "assert scores_diff < 1e-6, 'Problem with test-time forward pass'\n",
    "\n",
    "print('Testing training loss (no regularization)')\n",
    "y = np.asarray([0, 5, 1])\n",
    "loss, grads = model.loss(X, y)\n",
    "correct_loss = 3.4702243556\n",
    "assert abs(loss - correct_loss) < 1e-10, 'Problem with training-time loss'\n",
    "\n",
    "model.reg = 1.0\n",
    "loss, grads = model.loss(X, y)\n",
    "correct_loss = 26.5948426952\n",
    "assert abs(loss - correct_loss) < 1e-10, 'Problem with regularization loss'\n",
    "\n",
    "# Errors should be around e-7 or less\n",
    "for reg in [0.0, 0.7]:\n",
    "  print('Running numeric gradient check with reg = ', reg)\n",
    "  model.reg = reg\n",
    "  loss, grads = model.loss(X, y)\n",
    "\n",
    "  for name in sorted(grads):\n",
    "    f = lambda _: model.loss(X, y)[0]\n",
    "    grad_num = eval_numerical_gradient(f, model.params[name], verbose=False)\n",
    "    print('%s relative error: %.2e' % (name, rel_error(grad_num, grads[name])))"
   ]
  },
  {
   "cell_type": "markdown",
   "metadata": {
    "colab_type": "text",
    "id": "FIM_OhGDX1x7"
   },
   "source": [
    "# Solver\n",
    "In the previous assignment, the logic for training models was coupled to the models themselves. Following a more modular design, for this assignment we have split the logic for training models into a separate class.\n",
    "\n",
    "Open the file `cs231n/solver.py` and read through it to familiarize yourself with the API. After doing so, use a `Solver` instance to train a `TwoLayerNet` that achieves at least `50%` accuracy on the validation set."
   ]
  },
  {
   "cell_type": "code",
   "execution_count": 10,
   "metadata": {},
   "outputs": [
    {
     "name": "stdout",
     "output_type": "stream",
     "text": [
      "<cs231n.classifiers.fc_net.TwoLayerNet object at 0x00000198F887B128>\n"
     ]
    }
   ],
   "source": [
    "model = TwoLayerNet()\n",
    "print(model)"
   ]
  },
  {
   "cell_type": "code",
   "execution_count": 11,
   "metadata": {
    "colab": {
     "autoexec": {
      "startup": false,
      "wait_interval": 0
     }
    },
    "colab_type": "code",
    "id": "5Ky7lil7X1x9"
   },
   "outputs": [
    {
     "name": "stdout",
     "output_type": "stream",
     "text": [
      "(Iteration 1 / 4410) loss: 2.301434\n",
      "(Epoch 0 / 9) train acc: 0.164000; val_acc: 0.134000\n",
      "(Iteration 101 / 4410) loss: 1.824051\n",
      "(Iteration 201 / 4410) loss: 1.961900\n",
      "(Iteration 301 / 4410) loss: 1.613144\n",
      "(Iteration 401 / 4410) loss: 1.495818\n",
      "(Epoch 1 / 9) train acc: 0.450000; val_acc: 0.451000\n",
      "(Iteration 501 / 4410) loss: 1.563394\n",
      "(Iteration 601 / 4410) loss: 1.443666\n",
      "(Iteration 701 / 4410) loss: 1.604075\n",
      "(Iteration 801 / 4410) loss: 1.605911\n",
      "(Iteration 901 / 4410) loss: 1.408392\n",
      "(Epoch 2 / 9) train acc: 0.480000; val_acc: 0.464000\n",
      "(Iteration 1001 / 4410) loss: 1.455671\n",
      "(Iteration 1101 / 4410) loss: 1.468152\n",
      "(Iteration 1201 / 4410) loss: 1.380462\n",
      "(Iteration 1301 / 4410) loss: 1.280830\n",
      "(Iteration 1401 / 4410) loss: 1.445764\n",
      "(Epoch 3 / 9) train acc: 0.503000; val_acc: 0.479000\n",
      "(Iteration 1501 / 4410) loss: 1.384686\n",
      "(Iteration 1601 / 4410) loss: 1.332996\n",
      "(Iteration 1701 / 4410) loss: 1.341420\n",
      "(Iteration 1801 / 4410) loss: 1.456930\n",
      "(Iteration 1901 / 4410) loss: 1.427660\n",
      "(Epoch 4 / 9) train acc: 0.504000; val_acc: 0.487000\n",
      "(Iteration 2001 / 4410) loss: 1.425840\n",
      "(Iteration 2101 / 4410) loss: 1.389251\n",
      "(Iteration 2201 / 4410) loss: 1.458540\n",
      "(Iteration 2301 / 4410) loss: 1.190365\n",
      "(Iteration 2401 / 4410) loss: 1.231720\n",
      "(Epoch 5 / 9) train acc: 0.529000; val_acc: 0.481000\n",
      "(Iteration 2501 / 4410) loss: 1.311956\n",
      "(Iteration 2601 / 4410) loss: 1.257376\n",
      "(Iteration 2701 / 4410) loss: 1.255261\n",
      "(Iteration 2801 / 4410) loss: 1.359596\n",
      "(Iteration 2901 / 4410) loss: 1.252704\n",
      "(Epoch 6 / 9) train acc: 0.563000; val_acc: 0.512000\n",
      "(Iteration 3001 / 4410) loss: 1.141624\n",
      "(Iteration 3101 / 4410) loss: 1.041271\n",
      "(Iteration 3201 / 4410) loss: 1.537659\n",
      "(Iteration 3301 / 4410) loss: 1.195672\n",
      "(Iteration 3401 / 4410) loss: 1.411472\n",
      "(Epoch 7 / 9) train acc: 0.547000; val_acc: 0.494000\n",
      "(Iteration 3501 / 4410) loss: 1.193842\n",
      "(Iteration 3601 / 4410) loss: 1.033797\n",
      "(Iteration 3701 / 4410) loss: 1.246135\n",
      "(Iteration 3801 / 4410) loss: 1.203015\n",
      "(Iteration 3901 / 4410) loss: 0.929300\n",
      "(Epoch 8 / 9) train acc: 0.545000; val_acc: 0.502000\n",
      "(Iteration 4001 / 4410) loss: 1.089804\n",
      "(Iteration 4101 / 4410) loss: 1.174137\n",
      "(Iteration 4201 / 4410) loss: 1.052676\n",
      "(Iteration 4301 / 4410) loss: 0.998013\n",
      "(Iteration 4401 / 4410) loss: 1.530019\n",
      "(Epoch 9 / 9) train acc: 0.594000; val_acc: 0.513000\n"
     ]
    }
   ],
   "source": [
    "model = TwoLayerNet()\n",
    "solver = None\n",
    "\n",
    "##############################################################################\n",
    "# TODO: Use a Solver instance to train a TwoLayerNet that achieves at least  #\n",
    "# 50% accuracy on the validation set.                                        #\n",
    "##############################################################################\n",
    "solver = Solver(model, data,\n",
    "                update_rule='sgd',\n",
    "                optim_config={\n",
    "                  'learning_rate': 1e-3,\n",
    "                },\n",
    "                lr_decay=0.95,\n",
    "                num_epochs=9, batch_size=100,\n",
    "                print_every=100)\n",
    "solver.train()\n",
    "##############################################################################\n",
    "#                             END OF YOUR CODE                               #\n",
    "##############################################################################"
   ]
  },
  {
   "cell_type": "code",
   "execution_count": 12,
   "metadata": {
    "colab": {
     "autoexec": {
      "startup": false,
      "wait_interval": 0
     }
    },
    "colab_type": "code",
    "id": "ZOn8lbDTX1yD"
   },
   "outputs": [
    {
     "data": {
      "image/png": "[encoded data removed]",
      "text/plain": [
       "<Figure size 1080x864 with 2 Axes>"
      ]
     },
     "metadata": {},
     "output_type": "display_data"
    }
   ],
   "source": [
    "# Run this cell to visualize training loss and train / val accuracy\n",
    "\n",
    "plt.subplot(2, 1, 1)\n",
    "plt.title('Training loss')\n",
    "plt.plot(solver.loss_history, 'o')\n",
    "plt.xlabel('Iteration')\n",
    "\n",
    "plt.subplot(2, 1, 2)\n",
    "plt.title('Accuracy')\n",
    "plt.plot(solver.train_acc_history, '-o', label='train')\n",
    "plt.plot(solver.val_acc_history, '-o', label='val')\n",
    "plt.plot([0.5] * len(solver.val_acc_history), 'k--')\n",
    "plt.xlabel('Epoch')\n",
    "plt.legend(loc='lower right')\n",
    "plt.gcf().set_size_inches(15, 12)\n",
    "plt.show()"
   ]
  },
  {
   "cell_type": "markdown",
   "metadata": {
    "colab_type": "text",
    "id": "HoxLExoDX1yJ"
   },
   "source": [
    "# Multilayer network\n",
    "Next you will implement a fully-connected network with an arbitrary number of hidden layers.\n",
    "\n",
    "Read through the `FullyConnectedNet` class in the file `cs231n/classifiers/fc_net.py`.\n",
    "\n",
    "Implement the initialization, the forward pass, and the backward pass. For the moment don't worry about implementing dropout or batch/layer normalization; we will add those features soon."
   ]
  },
  {
   "cell_type": "markdown",
   "metadata": {
    "colab_type": "text",
    "id": "Sv0Suj74X1yK"
   },
   "source": [
    "## Initial loss and gradient check"
   ]
  },
  {
   "cell_type": "markdown",
   "metadata": {
    "colab_type": "text",
    "id": "z4XH8PZNX1yL"
   },
   "source": [
    "As a sanity check, run the following to check the initial loss and to gradient check the network both with and without regularization. Do the initial losses seem reasonable?\n",
    "\n",
    "For gradient checking, you should expect to see errors around 1e-7 or less."
   ]
  },
  {
   "cell_type": "code",
   "execution_count": 13,
   "metadata": {
    "colab": {
     "autoexec": {
      "startup": false,
      "wait_interval": 0
     }
    },
    "colab_type": "code",
    "id": "RtcNC01VX1yN"
   },
   "outputs": [
    {
     "name": "stdout",
     "output_type": "stream",
     "text": [
      "Running check with reg =  0\n",
      "Initial loss:  2.3004790897684924\n",
      "W1 relative error: 1.48e-07\n",
      "W2 relative error: 2.21e-05\n",
      "W3 relative error: 3.53e-07\n",
      "b1 relative error: 5.38e-09\n",
      "b2 relative error: 2.09e-09\n",
      "b3 relative error: 5.80e-11\n",
      "Running check with reg =  3.14\n",
      "Initial loss:  7.052114776533016\n",
      "W1 relative error: 3.90e-09\n",
      "W2 relative error: 6.87e-08\n",
      "W3 relative error: 2.13e-08\n",
      "b1 relative error: 1.48e-08\n",
      "b2 relative error: 1.72e-09\n",
      "b3 relative error: 1.57e-10\n"
     ]
    }
   ],
   "source": [
    "np.random.seed(231)\n",
    "N, D, H1, H2, C = 2, 15, 20, 30, 10\n",
    "X = np.random.randn(N, D)\n",
    "y = np.random.randint(C, size=(N,))\n",
    "\n",
    "for reg in [0, 3.14]:\n",
    "    print('Running check with reg = ', reg)\n",
    "    model = FullyConnectedNet([H1, H2], input_dim=D, num_classes=C,\n",
    "                            reg=reg, weight_scale=5e-2, dtype=np.float64)\n",
    "\n",
    "    loss, grads = model.loss(X, y)\n",
    "    print('Initial loss: ', loss)\n",
    "\n",
    "    # Most of the errors should be on the order of e-7 or smaller.   \n",
    "    # NOTE: It is fine however to see an error for W2 on the order of e-5\n",
    "    # for the check when reg = 0.0\n",
    "    for name in sorted(grads):\n",
    "        f = lambda _: model.loss(X, y)[0]\n",
    "        grad_num = eval_numerical_gradient(f, model.params[name], verbose=False, h=1e-5)\n",
    "        print('%s relative error: %.2e' % (name, rel_error(grad_num, grads[name])))"
   ]
  },
  {
   "cell_type": "markdown",
   "metadata": {
    "colab_type": "text",
    "id": "HWb2BtuZX1yR"
   },
   "source": [
    "As another sanity check, make sure you can overfit a small dataset of 50 images. First we will try a three-layer network with 100 units in each hidden layer. In the following cell, tweak the learning rate and initialization scale to overfit and achieve 100% training accuracy within 20 epochs."
   ]
  },
  {
   "cell_type": "code",
   "execution_count": 14,
   "metadata": {},
   "outputs": [
    {
     "name": "stdout",
     "output_type": "stream",
     "text": [
      "(Iteration 1 / 40) loss: 2859.377987\n",
      "(Epoch 0 / 20) train acc: 0.080000; val_acc: 0.113000\n",
      "(Epoch 1 / 20) train acc: 0.200000; val_acc: 0.119000\n",
      "(Epoch 2 / 20) train acc: 0.360000; val_acc: 0.135000\n",
      "(Epoch 3 / 20) train acc: 0.440000; val_acc: 0.149000\n",
      "(Epoch 4 / 20) train acc: 0.540000; val_acc: 0.151000\n",
      "(Epoch 5 / 20) train acc: 0.640000; val_acc: 0.168000\n",
      "(Iteration 11 / 40) loss: 95.015090\n",
      "(Epoch 6 / 20) train acc: 0.700000; val_acc: 0.159000\n",
      "(Epoch 7 / 20) train acc: 0.820000; val_acc: 0.170000\n",
      "(Epoch 8 / 20) train acc: 0.820000; val_acc: 0.158000\n",
      "(Epoch 9 / 20) train acc: 0.900000; val_acc: 0.161000\n",
      "(Epoch 10 / 20) train acc: 0.940000; val_acc: 0.159000\n",
      "(Iteration 21 / 40) loss: 62.855162\n",
      "(Epoch 11 / 20) train acc: 0.920000; val_acc: 0.160000\n",
      "(Epoch 12 / 20) train acc: 0.980000; val_acc: 0.159000\n",
      "(Epoch 13 / 20) train acc: 1.000000; val_acc: 0.159000\n",
      "(Epoch 14 / 20) train acc: 1.000000; val_acc: 0.159000\n",
      "(Epoch 15 / 20) train acc: 1.000000; val_acc: 0.159000\n",
      "(Iteration 31 / 40) loss: 0.000000\n",
      "(Epoch 16 / 20) train acc: 1.000000; val_acc: 0.159000\n",
      "(Epoch 17 / 20) train acc: 1.000000; val_acc: 0.159000\n",
      "(Epoch 18 / 20) train acc: 1.000000; val_acc: 0.159000\n",
      "(Epoch 19 / 20) train acc: 1.000000; val_acc: 0.159000\n",
      "(Epoch 20 / 20) train acc: 1.000000; val_acc: 0.159000\n"
     ]
    },
    {
     "data": {
      "image/png": "[encoded data removed]",
      "text/plain": [
       "<Figure size 432x288 with 1 Axes>"
      ]
     },
     "metadata": {},
     "output_type": "display_data"
    }
   ],
   "source": [
    "# TODO: Use a three-layer Net to overfit 50 training examples by \n",
    "# tweaking just the learning rate and initialization scale.\n",
    "\n",
    "num_train = 50\n",
    "small_data = {\n",
    "  'X_train': data['X_train'][:num_train],\n",
    "  'y_train': data['y_train'][:num_train],\n",
    "  'X_val': data['X_val'],\n",
    "  'y_val': data['y_val'],\n",
    "}\n",
    "\n",
    "# see http://cs231n.github.io/neural-networks-2/\n",
    "weight_scale = np.sqrt(2.0 / 50)\n",
    "learning_rate = 1e-4\n",
    "\n",
    "model = FullyConnectedNet([100, 100],\n",
    "              weight_scale=weight_scale, dtype=np.float64)\n",
    "solver = Solver(model, small_data,\n",
    "                print_every=10, num_epochs=20, batch_size=25,\n",
    "                update_rule='sgd',\n",
    "                optim_config={\n",
    "                  'learning_rate': learning_rate,\n",
    "                }\n",
    "         )\n",
    "solver.train()\n",
    "\n",
    "plt.plot(solver.loss_history, 'o')\n",
    "plt.title('Training loss history')\n",
    "plt.xlabel('Iteration')\n",
    "plt.ylabel('Training loss')\n",
    "plt.show()"
   ]
  },
  {
   "cell_type": "markdown",
   "metadata": {
    "colab_type": "text",
    "id": "gfgP397HX1yX"
   },
   "source": [
    "Now try to use a five-layer network with 100 units on each layer to overfit 50 training examples. Again you will have to adjust the learning rate and weight initialization, but you should be able to achieve 100% training accuracy within 20 epochs."
   ]
  },
  {
   "cell_type": "code",
   "execution_count": 15,
   "metadata": {},
   "outputs": [
    {
     "name": "stdout",
     "output_type": "stream",
     "text": [
      "(Iteration 1 / 40) loss: 941.849832\n",
      "(Epoch 0 / 20) train acc: 0.160000; val_acc: 0.122000\n",
      "(Epoch 1 / 20) train acc: 0.240000; val_acc: 0.096000\n",
      "(Epoch 2 / 20) train acc: 0.320000; val_acc: 0.136000\n",
      "(Epoch 3 / 20) train acc: 0.440000; val_acc: 0.116000\n",
      "(Epoch 4 / 20) train acc: 0.620000; val_acc: 0.123000\n",
      "(Epoch 5 / 20) train acc: 0.620000; val_acc: 0.107000\n",
      "(Iteration 11 / 40) loss: 58.101612\n",
      "(Epoch 6 / 20) train acc: 0.800000; val_acc: 0.126000\n",
      "(Epoch 7 / 20) train acc: 0.780000; val_acc: 0.125000\n",
      "(Epoch 8 / 20) train acc: 0.880000; val_acc: 0.119000\n",
      "(Epoch 9 / 20) train acc: 0.880000; val_acc: 0.113000\n",
      "(Epoch 10 / 20) train acc: 0.920000; val_acc: 0.128000\n",
      "(Iteration 21 / 40) loss: 3.878652\n",
      "(Epoch 11 / 20) train acc: 0.940000; val_acc: 0.129000\n",
      "(Epoch 12 / 20) train acc: 0.940000; val_acc: 0.128000\n",
      "(Epoch 13 / 20) train acc: 0.960000; val_acc: 0.123000\n",
      "(Epoch 14 / 20) train acc: 0.960000; val_acc: 0.123000\n",
      "(Epoch 15 / 20) train acc: 0.980000; val_acc: 0.126000\n",
      "(Iteration 31 / 40) loss: 0.318801\n",
      "(Epoch 16 / 20) train acc: 1.000000; val_acc: 0.120000\n",
      "(Epoch 17 / 20) train acc: 1.000000; val_acc: 0.120000\n",
      "(Epoch 18 / 20) train acc: 1.000000; val_acc: 0.120000\n",
      "(Epoch 19 / 20) train acc: 1.000000; val_acc: 0.120000\n",
      "(Epoch 20 / 20) train acc: 1.000000; val_acc: 0.120000\n"
     ]
    },
    {
     "data": {
      "image/png": "[encoded data removed]",
      "text/plain": [
       "<Figure size 432x288 with 1 Axes>"
      ]
     },
     "metadata": {},
     "output_type": "display_data"
    }
   ],
   "source": [
    "# TODO: Use a five-layer Net to overfit 50 training examples by \n",
    "# tweaking just the learning rate and initialization scale.\n",
    "\n",
    "num_train = 50\n",
    "small_data = {\n",
    "  'X_train': data['X_train'][:num_train],\n",
    "  'y_train': data['y_train'][:num_train],\n",
    "  'X_val': data['X_val'],\n",
    "  'y_val': data['y_val'],\n",
    "}\n",
    "\n",
    "learning_rate = 1e-4\n",
    "weight_scale = np.sqrt(2 / 100) # by Xavier\n",
    "model = FullyConnectedNet([100, 100, 100, 100],\n",
    "                weight_scale=weight_scale, dtype=np.float64)\n",
    "solver = Solver(model, small_data,\n",
    "                print_every=10, num_epochs=20, batch_size=25,\n",
    "                update_rule='sgd',\n",
    "                optim_config={\n",
    "                  'learning_rate': learning_rate,\n",
    "                }\n",
    "         )\n",
    "solver.train()\n",
    "\n",
    "plt.plot(solver.loss_history, 'o')\n",
    "plt.title('Training loss history')\n",
    "plt.xlabel('Iteration')\n",
    "plt.ylabel('Training loss')\n",
    "plt.show()"
   ]
  },
  {
   "cell_type": "markdown",
   "metadata": {
    "colab_type": "text",
    "id": "cW4x2MQ_X1yc"
   },
   "source": [
    "## Inline Question 2: \n",
    "Did you notice anything about the comparative difficulty of training the three-layer net vs training the five layer net? In particular, based on your experience, which network seemed more sensitive to the initialization scale? Why do you think that is the case?"
   ]
  },
  {
   "cell_type": "markdown",
   "metadata": {
    "colab_type": "text",
    "id": "uGMfoRFaX1yd"
   },
   "source": [
    "## Answer:\n",
    "5-ти слойная сеть более чувствительна к шкале инициализации, поскольку путь прохождения сигнала длиннее и угнетение сигнала проявляется сильнее.  \n",
    "\n",
    "The 5-layer network is more sensitive to the initialization scale, since the signal path is longer and the signal suppression is more pronounced."
   ]
  },
  {
   "cell_type": "markdown",
   "metadata": {
    "colab_type": "text",
    "id": "-2-3Tw8CX1ye"
   },
   "source": [
    "# Update rules\n",
    "So far we have used vanilla stochastic gradient descent (SGD) as our update rule. More sophisticated update rules can make it easier to train deep networks. We will implement a few of the most commonly used update rules and compare them to vanilla SGD."
   ]
  },
  {
   "cell_type": "markdown",
   "metadata": {
    "colab_type": "text",
    "id": "awPg8p9LX1yf"
   },
   "source": [
    "# SGD+Momentum\n",
    "Stochastic gradient descent with momentum is a widely used update rule that tends to make deep networks converge faster than vanilla stochastic gradient descent. See the Momentum Update section at http://cs231n.github.io/neural-networks-3/#sgd for more information.\n",
    "\n",
    "Open the file `cs231n/optim.py` and read the documentation at the top of the file to make sure you understand the API. Implement the SGD+momentum update rule in the function `sgd_momentum` and run the following to check your implementation. You should see errors less than e-8."
   ]
  },
  {
   "cell_type": "code",
   "execution_count": 16,
   "metadata": {
    "colab": {
     "autoexec": {
      "startup": false,
      "wait_interval": 0
     }
    },
    "colab_type": "code",
    "id": "bRkVo9IWX1yg"
   },
   "outputs": [
    {
     "name": "stdout",
     "output_type": "stream",
     "text": [
      "next_w error:  8.882347033505819e-09\n",
      "velocity error:  4.269287743278663e-09\n"
     ]
    }
   ],
   "source": [
    "from cs231n.optim import sgd_momentum\n",
    "\n",
    "N, D = 4, 5\n",
    "w = np.linspace(-0.4, 0.6, num=N*D).reshape(N, D)\n",
    "dw = np.linspace(-0.6, 0.4, num=N*D).reshape(N, D)\n",
    "v = np.linspace(0.6, 0.9, num=N*D).reshape(N, D)\n",
    "\n",
    "config = {'learning_rate': 1e-3, 'velocity': v}\n",
    "next_w, _ = sgd_momentum(w, dw, config=config)\n",
    "\n",
    "expected_next_w = np.asarray([\n",
    "  [ 0.1406,      0.20738947,  0.27417895,  0.34096842,  0.40775789],\n",
    "  [ 0.47454737,  0.54133684,  0.60812632,  0.67491579,  0.74170526],\n",
    "  [ 0.80849474,  0.87528421,  0.94207368,  1.00886316,  1.07565263],\n",
    "  [ 1.14244211,  1.20923158,  1.27602105,  1.34281053,  1.4096    ]])\n",
    "expected_velocity = np.asarray([\n",
    "  [ 0.5406,      0.55475789,  0.56891579, 0.58307368,  0.59723158],\n",
    "  [ 0.61138947,  0.62554737,  0.63970526,  0.65386316,  0.66802105],\n",
    "  [ 0.68217895,  0.69633684,  0.71049474,  0.72465263,  0.73881053],\n",
    "  [ 0.75296842,  0.76712632,  0.78128421,  0.79544211,  0.8096    ]])\n",
    "\n",
    "# Should see relative errors around e-8 or less\n",
    "print('next_w error: ', rel_error(next_w, expected_next_w))\n",
    "print('velocity error: ', rel_error(expected_velocity, config['velocity']))"
   ]
  },
  {
   "cell_type": "markdown",
   "metadata": {
    "colab_type": "text",
    "id": "_qq53VXcX1yk"
   },
   "source": [
    "Once you have done so, run the following to train a six-layer network with both SGD and SGD+momentum. You should see the SGD+momentum update rule converge faster."
   ]
  },
  {
   "cell_type": "code",
   "execution_count": 17,
   "metadata": {
    "colab": {
     "autoexec": {
      "startup": false,
      "wait_interval": 0
     }
    },
    "colab_type": "code",
    "id": "zSh-yulaX1yl"
   },
   "outputs": [
    {
     "name": "stdout",
     "output_type": "stream",
     "text": [
      "running with  sgd\n",
      "(Iteration 1 / 200) loss: 2.559978\n",
      "(Epoch 0 / 5) train acc: 0.103000; val_acc: 0.108000\n",
      "(Iteration 11 / 200) loss: 2.291086\n",
      "(Iteration 21 / 200) loss: 2.153591\n",
      "(Iteration 31 / 200) loss: 2.082694\n",
      "(Epoch 1 / 5) train acc: 0.277000; val_acc: 0.242000\n",
      "(Iteration 41 / 200) loss: 2.004171\n",
      "(Iteration 51 / 200) loss: 2.010409\n",
      "(Iteration 61 / 200) loss: 2.023753\n",
      "(Iteration 71 / 200) loss: 2.026621\n",
      "(Epoch 2 / 5) train acc: 0.352000; val_acc: 0.312000\n",
      "(Iteration 81 / 200) loss: 1.807163\n",
      "(Iteration 91 / 200) loss: 1.914256\n",
      "(Iteration 101 / 200) loss: 1.920494\n",
      "(Iteration 111 / 200) loss: 1.708877\n",
      "(Epoch 3 / 5) train acc: 0.399000; val_acc: 0.316000\n",
      "(Iteration 121 / 200) loss: 1.701111\n",
      "(Iteration 131 / 200) loss: 1.769697\n",
      "(Iteration 141 / 200) loss: 1.788898\n",
      "(Iteration 151 / 200) loss: 1.816437\n",
      "(Epoch 4 / 5) train acc: 0.419000; val_acc: 0.320000\n",
      "(Iteration 161 / 200) loss: 1.632625\n",
      "(Iteration 171 / 200) loss: 1.899922\n",
      "(Iteration 181 / 200) loss: 1.539522\n",
      "(Iteration 191 / 200) loss: 1.718348\n",
      "(Epoch 5 / 5) train acc: 0.437000; val_acc: 0.329000\n",
      "\n",
      "running with  sgd_momentum\n",
      "(Iteration 1 / 200) loss: 3.153777\n",
      "(Epoch 0 / 5) train acc: 0.105000; val_acc: 0.093000\n",
      "(Iteration 11 / 200) loss: 2.145874\n",
      "(Iteration 21 / 200) loss: 2.032563\n",
      "(Iteration 31 / 200) loss: 1.985848\n",
      "(Epoch 1 / 5) train acc: 0.311000; val_acc: 0.281000\n",
      "(Iteration 41 / 200) loss: 1.882354\n",
      "(Iteration 51 / 200) loss: 1.855372\n",
      "(Iteration 61 / 200) loss: 1.649133\n",
      "(Iteration 71 / 200) loss: 1.806432\n",
      "(Epoch 2 / 5) train acc: 0.415000; val_acc: 0.324000\n",
      "(Iteration 81 / 200) loss: 1.907840\n",
      "(Iteration 91 / 200) loss: 1.510681\n",
      "(Iteration 101 / 200) loss: 1.546872\n",
      "(Iteration 111 / 200) loss: 1.512047\n",
      "(Epoch 3 / 5) train acc: 0.434000; val_acc: 0.321000\n",
      "(Iteration 121 / 200) loss: 1.677301\n",
      "(Iteration 131 / 200) loss: 1.504686\n",
      "(Iteration 141 / 200) loss: 1.633253\n",
      "(Iteration 151 / 200) loss: 1.745081\n",
      "(Epoch 4 / 5) train acc: 0.460000; val_acc: 0.353000\n",
      "(Iteration 161 / 200) loss: 1.485410\n",
      "(Iteration 171 / 200) loss: 1.610417\n",
      "(Iteration 181 / 200) loss: 1.528331\n",
      "(Iteration 191 / 200) loss: 1.447238\n",
      "(Epoch 5 / 5) train acc: 0.515000; val_acc: 0.384000\n",
      "\n"
     ]
    },
    {
     "name": "stderr",
     "output_type": "stream",
     "text": [
      "C:\\Users\\dsher\\Anaconda3\\lib\\site-packages\\matplotlib\\cbook\\deprecation.py:107: MatplotlibDeprecationWarning: Adding an axes using the same arguments as a previous axes currently reuses the earlier instance.  In a future version, a new instance will always be created and returned.  Meanwhile, this warning can be suppressed, and the future behavior ensured, by passing a unique label to each axes instance.\n",
      "  warnings.warn(message, mplDeprecation, stacklevel=1)\n"
     ]
    },
    {
     "data": {
      "image/png": "[encoded data removed]",
      "text/plain": [
       "<Figure size 1080x1080 with 3 Axes>"
      ]
     },
     "metadata": {},
     "output_type": "display_data"
    }
   ],
   "source": [
    "num_train = 4000\n",
    "small_data = {\n",
    "  'X_train': data['X_train'][:num_train],\n",
    "  'y_train': data['y_train'][:num_train],\n",
    "  'X_val': data['X_val'],\n",
    "  'y_val': data['y_val'],\n",
    "}\n",
    "\n",
    "solvers = {}\n",
    "\n",
    "for update_rule in ['sgd', 'sgd_momentum']:\n",
    "  print('running with ', update_rule)\n",
    "  model = FullyConnectedNet([100, 100, 100, 100, 100], weight_scale=5e-2)\n",
    "\n",
    "  solver = Solver(model, small_data,\n",
    "                  num_epochs=5, batch_size=100,\n",
    "                  update_rule=update_rule,\n",
    "                  optim_config={\n",
    "                    'learning_rate': 1e-2,\n",
    "                  },\n",
    "                  verbose=True)\n",
    "  solvers[update_rule] = solver\n",
    "  solver.train()\n",
    "  print()\n",
    "\n",
    "plt.subplot(3, 1, 1)\n",
    "plt.title('Training loss')\n",
    "plt.xlabel('Iteration')\n",
    "\n",
    "plt.subplot(3, 1, 2)\n",
    "plt.title('Training accuracy')\n",
    "plt.xlabel('Epoch')\n",
    "\n",
    "plt.subplot(3, 1, 3)\n",
    "plt.title('Validation accuracy')\n",
    "plt.xlabel('Epoch')\n",
    "\n",
    "for update_rule, solver in list(solvers.items()):\n",
    "  plt.subplot(3, 1, 1)\n",
    "  plt.plot(solver.loss_history, 'o', label=update_rule)\n",
    "  \n",
    "  plt.subplot(3, 1, 2)\n",
    "  plt.plot(solver.train_acc_history, '-o', label=update_rule)\n",
    "\n",
    "  plt.subplot(3, 1, 3)\n",
    "  plt.plot(solver.val_acc_history, '-o', label=update_rule)\n",
    "  \n",
    "for i in [1, 2, 3]:\n",
    "  plt.subplot(3, 1, i)\n",
    "  plt.legend(loc='upper center', ncol=4)\n",
    "plt.gcf().set_size_inches(15, 15)\n",
    "plt.show()"
   ]
  },
  {
   "cell_type": "markdown",
   "metadata": {
    "colab_type": "text",
    "id": "B5ohGw0xX1yp"
   },
   "source": [
    "# RMSProp and Adam\n",
    "RMSProp [1] and Adam [2] are update rules that set per-parameter learning rates by using a running average of the second moments of gradients.\n",
    "\n",
    "In the file `cs231n/optim.py`, implement the RMSProp update rule in the `rmsprop` function and implement the Adam update rule in the `adam` function, and check your implementations using the tests below.\n",
    "\n",
    "**NOTE:** Please implement the _complete_ Adam update rule (with the bias correction mechanism), not the first simplified version mentioned in the course notes. \n",
    "\n",
    "[1] Tijmen Tieleman and Geoffrey Hinton. \"Lecture 6.5-rmsprop: Divide the gradient by a running average of its recent magnitude.\" COURSERA: Neural Networks for Machine Learning 4 (2012).\n",
    "\n",
    "[2] Diederik Kingma and Jimmy Ba, \"Adam: A Method for Stochastic Optimization\", ICLR 2015."
   ]
  },
  {
   "cell_type": "code",
   "execution_count": 18,
   "metadata": {
    "colab": {
     "autoexec": {
      "startup": false,
      "wait_interval": 0
     }
    },
    "colab_type": "code",
    "id": "RUtCTsFXX1yq"
   },
   "outputs": [
    {
     "name": "stdout",
     "output_type": "stream",
     "text": [
      "next_w error:  9.524687511038133e-08\n",
      "cache error:  2.6477955807156126e-09\n"
     ]
    }
   ],
   "source": [
    "# Test RMSProp implementation\n",
    "from cs231n.optim import rmsprop\n",
    "\n",
    "N, D = 4, 5\n",
    "w = np.linspace(-0.4, 0.6, num=N*D).reshape(N, D)\n",
    "dw = np.linspace(-0.6, 0.4, num=N*D).reshape(N, D)\n",
    "cache = np.linspace(0.6, 0.9, num=N*D).reshape(N, D)\n",
    "\n",
    "config = {'learning_rate': 1e-2, 'cache': cache}\n",
    "next_w, _ = rmsprop(w, dw, config=config)\n",
    "\n",
    "expected_next_w = np.asarray([\n",
    "  [-0.39223849, -0.34037513, -0.28849239, -0.23659121, -0.18467247],\n",
    "  [-0.132737,   -0.08078555, -0.02881884,  0.02316247,  0.07515774],\n",
    "  [ 0.12716641,  0.17918792,  0.23122175,  0.28326742,  0.33532447],\n",
    "  [ 0.38739248,  0.43947102,  0.49155973,  0.54365823,  0.59576619]])\n",
    "expected_cache = np.asarray([\n",
    "  [ 0.5976,      0.6126277,   0.6277108,   0.64284931,  0.65804321],\n",
    "  [ 0.67329252,  0.68859723,  0.70395734,  0.71937285,  0.73484377],\n",
    "  [ 0.75037008,  0.7659518,   0.78158892,  0.79728144,  0.81302936],\n",
    "  [ 0.82883269,  0.84469141,  0.86060554,  0.87657507,  0.8926    ]])\n",
    "\n",
    "# You should see relative errors around e-7 or less\n",
    "print('next_w error: ', rel_error(expected_next_w, next_w))\n",
    "print('cache error: ', rel_error(expected_cache, config['cache']))"
   ]
  },
  {
   "cell_type": "code",
   "execution_count": 19,
   "metadata": {
    "colab": {
     "autoexec": {
      "startup": false,
      "wait_interval": 0
     }
    },
    "colab_type": "code",
    "id": "WTBNrGFeX1yu"
   },
   "outputs": [
    {
     "name": "stdout",
     "output_type": "stream",
     "text": [
      "next_w error:  1.1395691798535431e-07\n",
      "v error:  4.208314038113071e-09\n",
      "m error:  4.214963193114416e-09\n"
     ]
    }
   ],
   "source": [
    "# Test Adam implementation\n",
    "from cs231n.optim import adam\n",
    "\n",
    "N, D = 4, 5\n",
    "w = np.linspace(-0.4, 0.6, num=N*D).reshape(N, D)\n",
    "dw = np.linspace(-0.6, 0.4, num=N*D).reshape(N, D)\n",
    "m = np.linspace(0.6, 0.9, num=N*D).reshape(N, D)\n",
    "v = np.linspace(0.7, 0.5, num=N*D).reshape(N, D)\n",
    "\n",
    "config = {'learning_rate': 1e-2, 'm': m, 'v': v, 't': 5}\n",
    "next_w, _ = adam(w, dw, config=config)\n",
    "\n",
    "expected_next_w = np.asarray([\n",
    "  [-0.40094747, -0.34836187, -0.29577703, -0.24319299, -0.19060977],\n",
    "  [-0.1380274,  -0.08544591, -0.03286534,  0.01971428,  0.0722929],\n",
    "  [ 0.1248705,   0.17744702,  0.23002243,  0.28259667,  0.33516969],\n",
    "  [ 0.38774145,  0.44031188,  0.49288093,  0.54544852,  0.59801459]])\n",
    "expected_v = np.asarray([\n",
    "  [ 0.69966,     0.68908382,  0.67851319,  0.66794809,  0.65738853,],\n",
    "  [ 0.64683452,  0.63628604,  0.6257431,   0.61520571,  0.60467385,],\n",
    "  [ 0.59414753,  0.58362676,  0.57311152,  0.56260183,  0.55209767,],\n",
    "  [ 0.54159906,  0.53110598,  0.52061845,  0.51013645,  0.49966,   ]])\n",
    "expected_m = np.asarray([\n",
    "  [ 0.48,        0.49947368,  0.51894737,  0.53842105,  0.55789474],\n",
    "  [ 0.57736842,  0.59684211,  0.61631579,  0.63578947,  0.65526316],\n",
    "  [ 0.67473684,  0.69421053,  0.71368421,  0.73315789,  0.75263158],\n",
    "  [ 0.77210526,  0.79157895,  0.81105263,  0.83052632,  0.85      ]])\n",
    "\n",
    "# You should see relative errors around e-7 or less\n",
    "print('next_w error: ', rel_error(expected_next_w, next_w))\n",
    "print('v error: ', rel_error(expected_v, config['v']))\n",
    "print('m error: ', rel_error(expected_m, config['m']))"
   ]
  },
  {
   "cell_type": "markdown",
   "metadata": {
    "colab_type": "text",
    "id": "PYy2c-F6X1yz"
   },
   "source": [
    "Once you have debugged your RMSProp and Adam implementations, run the following to train a pair of deep networks using these new update rules:"
   ]
  },
  {
   "cell_type": "code",
   "execution_count": 20,
   "metadata": {
    "colab": {
     "autoexec": {
      "startup": false,
      "wait_interval": 0
     }
    },
    "colab_type": "code",
    "id": "EdcZMOHJX1y1"
   },
   "outputs": [
    {
     "name": "stdout",
     "output_type": "stream",
     "text": [
      "running with  adam\n",
      "(Iteration 1 / 200) loss: 3.476928\n",
      "(Epoch 0 / 5) train acc: 0.126000; val_acc: 0.110000\n",
      "(Iteration 11 / 200) loss: 2.027712\n",
      "(Iteration 21 / 200) loss: 2.183358\n",
      "(Iteration 31 / 200) loss: 1.744257\n",
      "(Epoch 1 / 5) train acc: 0.363000; val_acc: 0.330000\n",
      "(Iteration 41 / 200) loss: 1.707951\n",
      "(Iteration 51 / 200) loss: 1.703835\n",
      "(Iteration 61 / 200) loss: 2.094758\n",
      "(Iteration 71 / 200) loss: 1.505558\n",
      "(Epoch 2 / 5) train acc: 0.419000; val_acc: 0.362000\n",
      "(Iteration 81 / 200) loss: 1.594431\n",
      "(Iteration 91 / 200) loss: 1.511452\n",
      "(Iteration 101 / 200) loss: 1.389237\n",
      "(Iteration 111 / 200) loss: 1.463575\n",
      "(Epoch 3 / 5) train acc: 0.497000; val_acc: 0.368000\n",
      "(Iteration 121 / 200) loss: 1.231336\n",
      "(Iteration 131 / 200) loss: 1.513258\n",
      "(Iteration 141 / 200) loss: 1.352624\n",
      "(Iteration 151 / 200) loss: 1.316922\n",
      "(Epoch 4 / 5) train acc: 0.549000; val_acc: 0.366000\n",
      "(Iteration 161 / 200) loss: 1.412159\n",
      "(Iteration 171 / 200) loss: 1.306159\n",
      "(Iteration 181 / 200) loss: 1.165191\n",
      "(Iteration 191 / 200) loss: 1.175248\n",
      "(Epoch 5 / 5) train acc: 0.569000; val_acc: 0.374000\n",
      "\n",
      "running with  rmsprop\n",
      "(Iteration 1 / 200) loss: 2.589166\n",
      "(Epoch 0 / 5) train acc: 0.119000; val_acc: 0.146000\n",
      "(Iteration 11 / 200) loss: 2.032921\n",
      "(Iteration 21 / 200) loss: 1.897278\n",
      "(Iteration 31 / 200) loss: 1.770793\n",
      "(Epoch 1 / 5) train acc: 0.381000; val_acc: 0.320000\n",
      "(Iteration 41 / 200) loss: 1.895732\n",
      "(Iteration 51 / 200) loss: 1.681091\n",
      "(Iteration 61 / 200) loss: 1.487204\n",
      "(Iteration 71 / 200) loss: 1.629973\n",
      "(Epoch 2 / 5) train acc: 0.429000; val_acc: 0.350000\n",
      "(Iteration 81 / 200) loss: 1.506685\n",
      "(Iteration 91 / 200) loss: 1.610741\n",
      "(Iteration 101 / 200) loss: 1.486124\n",
      "(Iteration 111 / 200) loss: 1.559454\n",
      "(Epoch 3 / 5) train acc: 0.492000; val_acc: 0.359000\n",
      "(Iteration 121 / 200) loss: 1.496860\n",
      "(Iteration 131 / 200) loss: 1.531552\n",
      "(Iteration 141 / 200) loss: 1.550195\n",
      "(Iteration 151 / 200) loss: 1.657838\n",
      "(Epoch 4 / 5) train acc: 0.533000; val_acc: 0.354000\n",
      "(Iteration 161 / 200) loss: 1.603105\n",
      "(Iteration 171 / 200) loss: 1.408188\n",
      "(Iteration 181 / 200) loss: 1.504259\n",
      "(Iteration 191 / 200) loss: 1.386832\n",
      "(Epoch 5 / 5) train acc: 0.524000; val_acc: 0.370000\n",
      "\n"
     ]
    },
    {
     "name": "stderr",
     "output_type": "stream",
     "text": [
      "C:\\Users\\dsher\\Anaconda3\\lib\\site-packages\\matplotlib\\cbook\\deprecation.py:107: MatplotlibDeprecationWarning: Adding an axes using the same arguments as a previous axes currently reuses the earlier instance.  In a future version, a new instance will always be created and returned.  Meanwhile, this warning can be suppressed, and the future behavior ensured, by passing a unique label to each axes instance.\n",
      "  warnings.warn(message, mplDeprecation, stacklevel=1)\n"
     ]
    },
    {
     "data": {
      "image/png": "[encoded data removed]",
      "text/plain": [
       "<Figure size 1080x1080 with 3 Axes>"
      ]
     },
     "metadata": {},
     "output_type": "display_data"
    }
   ],
   "source": [
    "learning_rates = {'rmsprop': 1e-4, 'adam': 1e-3}\n",
    "for update_rule in ['adam', 'rmsprop']:\n",
    "  print('running with ', update_rule)\n",
    "  model = FullyConnectedNet([100, 100, 100, 100, 100], weight_scale=5e-2)\n",
    "\n",
    "  solver = Solver(model, small_data,\n",
    "                  num_epochs=5, batch_size=100,\n",
    "                  update_rule=update_rule,\n",
    "                  optim_config={\n",
    "                    'learning_rate': learning_rates[update_rule]\n",
    "                  },\n",
    "                  verbose=True)\n",
    "  solvers[update_rule] = solver\n",
    "  solver.train() \n",
    "  print()\n",
    "\n",
    "plt.subplot(3, 1, 1)\n",
    "plt.title('Training loss')\n",
    "plt.xlabel('Iteration')\n",
    "\n",
    "plt.subplot(3, 1, 2)\n",
    "plt.title('Training accuracy')\n",
    "plt.xlabel('Epoch')\n",
    "\n",
    "plt.subplot(3, 1, 3)\n",
    "plt.title('Validation accuracy')\n",
    "plt.xlabel('Epoch')\n",
    "\n",
    "for update_rule, solver in list(solvers.items()):\n",
    "  plt.subplot(3, 1, 1)\n",
    "  plt.plot(solver.loss_history, 'o', label=update_rule)\n",
    "  \n",
    "  plt.subplot(3, 1, 2)\n",
    "  plt.plot(solver.train_acc_history, '-o', label=update_rule)\n",
    "\n",
    "  plt.subplot(3, 1, 3)\n",
    "  plt.plot(solver.val_acc_history, '-o', label=update_rule)\n",
    "  \n",
    "for i in [1, 2, 3]:\n",
    "  plt.subplot(3, 1, i)\n",
    "  plt.legend(loc='upper center', ncol=4)\n",
    "plt.gcf().set_size_inches(15, 15)\n",
    "plt.show()"
   ]
  },
  {
   "cell_type": "markdown",
   "metadata": {
    "colab_type": "text",
    "id": "OHSfOthOX1y4"
   },
   "source": [
    "## Inline Question 3:\n",
    "\n",
    "AdaGrad, like Adam, is a per-parameter optimization method that uses the following update rule:\n",
    "\n",
    "```\n",
    "cache += dw**2\n",
    "w += - learning_rate * dw / (np.sqrt(cache) + eps)\n",
    "```\n",
    "\n",
    "John notices that when he was training a network with AdaGrad that the updates became very small, and that his network was learning slowly. Using your knowledge of the AdaGrad update rule, why do you think the updates would become very small? Would Adam have the same issue?\n"
   ]
  },
  {
   "cell_type": "markdown",
   "metadata": {
    "colab_type": "text",
    "id": "dHSOWwlFX1y5"
   },
   "source": [
    "## Answer: \n",
    "I think because the dw is a big. I think Adam haven't the same issue."
   ]
  },
  {
   "cell_type": "markdown",
   "metadata": {
    "colab_type": "text",
    "id": "VxNa4K9RX1y7"
   },
   "source": [
    "# Train a good model!\n",
    "Train the best fully-connected model that you can on CIFAR-10, storing your best model in the `best_model` variable. We require you to get at least 50% accuracy on the validation set using a fully-connected net.\n",
    "\n",
    "If you are careful it should be possible to get accuracies above 55%, but we don't require it for this part and won't assign extra credit for doing so. Later in the assignment we will ask you to train the best convolutional network that you can on CIFAR-10, and we would prefer that you spend your effort working on convolutional nets rather than fully-connected nets.\n",
    "\n",
    "You might find it useful to complete the `BatchNormalization.ipynb` and `Dropout.ipynb` notebooks before completing this part, since those techniques can help you train powerful models."
   ]
  },
  {
   "cell_type": "code",
   "execution_count": 27,
   "metadata": {
    "colab": {
     "autoexec": {
      "startup": false,
      "wait_interval": 0
     }
    },
    "colab_type": "code",
    "id": "IMRwhtdmX1y8",
    "scrolled": true
   },
   "outputs": [
    {
     "name": "stdout",
     "output_type": "stream",
     "text": [
      "(Iteration 1 / 2450) loss: 2.507554\n",
      "(Epoch 0 / 5) train acc: 0.125000; val_acc: 0.131000\n",
      "(Iteration 11 / 2450) loss: 2.133324\n",
      "(Iteration 21 / 2450) loss: 2.041166\n",
      "(Iteration 31 / 2450) loss: 1.931026\n",
      "(Iteration 41 / 2450) loss: 2.084150\n",
      "(Iteration 51 / 2450) loss: 1.809976\n",
      "(Iteration 61 / 2450) loss: 1.692130\n",
      "(Iteration 71 / 2450) loss: 1.867952\n",
      "(Iteration 81 / 2450) loss: 1.912132\n",
      "(Iteration 91 / 2450) loss: 1.835473\n",
      "(Iteration 101 / 2450) loss: 1.782793\n",
      "(Iteration 111 / 2450) loss: 1.696687\n",
      "(Iteration 121 / 2450) loss: 1.870925\n",
      "(Iteration 131 / 2450) loss: 1.605442\n",
      "(Iteration 141 / 2450) loss: 1.764974\n",
      "(Iteration 151 / 2450) loss: 1.586714\n",
      "(Iteration 161 / 2450) loss: 1.679079\n",
      "(Iteration 171 / 2450) loss: 1.786756\n",
      "(Iteration 181 / 2450) loss: 1.668551\n",
      "(Iteration 191 / 2450) loss: 1.886167\n",
      "(Iteration 201 / 2450) loss: 1.654288\n",
      "(Iteration 211 / 2450) loss: 1.783439\n",
      "(Iteration 221 / 2450) loss: 1.784919\n",
      "(Iteration 231 / 2450) loss: 1.658177\n",
      "(Iteration 241 / 2450) loss: 1.632816\n",
      "(Iteration 251 / 2450) loss: 1.589478\n",
      "(Iteration 261 / 2450) loss: 1.597314\n",
      "(Iteration 271 / 2450) loss: 1.743597\n",
      "(Iteration 281 / 2450) loss: 1.568093\n",
      "(Iteration 291 / 2450) loss: 1.671433\n",
      "(Iteration 301 / 2450) loss: 1.667307\n",
      "(Iteration 311 / 2450) loss: 1.631939\n",
      "(Iteration 321 / 2450) loss: 1.595183\n",
      "(Iteration 331 / 2450) loss: 1.611616\n",
      "(Iteration 341 / 2450) loss: 1.841940\n",
      "(Iteration 351 / 2450) loss: 1.824184\n",
      "(Iteration 361 / 2450) loss: 1.673540\n",
      "(Iteration 371 / 2450) loss: 1.456697\n",
      "(Iteration 381 / 2450) loss: 1.559656\n",
      "(Iteration 391 / 2450) loss: 1.595242\n",
      "(Iteration 401 / 2450) loss: 1.472550\n",
      "(Iteration 411 / 2450) loss: 1.679687\n",
      "(Iteration 421 / 2450) loss: 1.508398\n",
      "(Iteration 431 / 2450) loss: 1.575502\n",
      "(Iteration 441 / 2450) loss: 1.510046\n",
      "(Iteration 451 / 2450) loss: 1.686037\n",
      "(Iteration 461 / 2450) loss: 1.598169\n",
      "(Iteration 471 / 2450) loss: 1.569006\n",
      "(Iteration 481 / 2450) loss: 1.830380\n",
      "(Epoch 1 / 5) train acc: 0.435000; val_acc: 0.433000\n",
      "(Iteration 491 / 2450) loss: 1.628578\n",
      "(Iteration 501 / 2450) loss: 1.457973\n",
      "(Iteration 511 / 2450) loss: 1.624855\n",
      "(Iteration 521 / 2450) loss: 1.724378\n",
      "(Iteration 531 / 2450) loss: 1.429888\n",
      "(Iteration 541 / 2450) loss: 1.605170\n",
      "(Iteration 551 / 2450) loss: 1.556467\n",
      "(Iteration 561 / 2450) loss: 1.490127\n",
      "(Iteration 571 / 2450) loss: 1.444740\n",
      "(Iteration 581 / 2450) loss: 1.502832\n",
      "(Iteration 591 / 2450) loss: 1.585146\n",
      "(Iteration 601 / 2450) loss: 1.545918\n",
      "(Iteration 611 / 2450) loss: 1.438157\n",
      "(Iteration 621 / 2450) loss: 1.377205\n",
      "(Iteration 631 / 2450) loss: 1.687798\n",
      "(Iteration 641 / 2450) loss: 1.503189\n",
      "(Iteration 651 / 2450) loss: 1.739840\n",
      "(Iteration 661 / 2450) loss: 1.694497\n",
      "(Iteration 671 / 2450) loss: 1.362136\n",
      "(Iteration 681 / 2450) loss: 1.441123\n",
      "(Iteration 691 / 2450) loss: 1.515178\n",
      "(Iteration 701 / 2450) loss: 1.575734\n",
      "(Iteration 711 / 2450) loss: 1.366105\n",
      "(Iteration 721 / 2450) loss: 1.444268\n",
      "(Iteration 731 / 2450) loss: 1.521573\n",
      "(Iteration 741 / 2450) loss: 1.481620\n",
      "(Iteration 751 / 2450) loss: 1.458730\n",
      "(Iteration 761 / 2450) loss: 1.586857\n",
      "(Iteration 771 / 2450) loss: 1.461617\n",
      "(Iteration 781 / 2450) loss: 1.412320\n",
      "(Iteration 791 / 2450) loss: 1.477305\n",
      "(Iteration 801 / 2450) loss: 1.505495\n",
      "(Iteration 811 / 2450) loss: 1.425753\n",
      "(Iteration 821 / 2450) loss: 1.416566\n",
      "(Iteration 831 / 2450) loss: 1.482672\n",
      "(Iteration 841 / 2450) loss: 1.661023\n",
      "(Iteration 851 / 2450) loss: 1.646243\n",
      "(Iteration 861 / 2450) loss: 1.647412\n",
      "(Iteration 871 / 2450) loss: 1.608697\n",
      "(Iteration 881 / 2450) loss: 1.751774\n",
      "(Iteration 891 / 2450) loss: 1.428647\n",
      "(Iteration 901 / 2450) loss: 1.710424\n",
      "(Iteration 911 / 2450) loss: 1.310609\n",
      "(Iteration 921 / 2450) loss: 1.661948\n",
      "(Iteration 931 / 2450) loss: 1.518084\n",
      "(Iteration 941 / 2450) loss: 1.354109\n",
      "(Iteration 951 / 2450) loss: 1.426197\n",
      "(Iteration 961 / 2450) loss: 1.357908\n",
      "(Iteration 971 / 2450) loss: 1.494541\n",
      "(Epoch 2 / 5) train acc: 0.493000; val_acc: 0.480000\n",
      "(Iteration 981 / 2450) loss: 1.524589\n",
      "(Iteration 991 / 2450) loss: 1.388829\n",
      "(Iteration 1001 / 2450) loss: 1.471028\n",
      "(Iteration 1011 / 2450) loss: 1.554718\n",
      "(Iteration 1021 / 2450) loss: 1.609171\n",
      "(Iteration 1031 / 2450) loss: 1.530869\n",
      "(Iteration 1041 / 2450) loss: 1.574111\n",
      "(Iteration 1051 / 2450) loss: 1.391059\n",
      "(Iteration 1061 / 2450) loss: 1.401553\n",
      "(Iteration 1071 / 2450) loss: 1.584474\n",
      "(Iteration 1081 / 2450) loss: 1.502299\n",
      "(Iteration 1091 / 2450) loss: 1.297700\n",
      "(Iteration 1101 / 2450) loss: 1.453451\n",
      "(Iteration 1111 / 2450) loss: 1.350184\n",
      "(Iteration 1121 / 2450) loss: 1.464528\n",
      "(Iteration 1131 / 2450) loss: 1.673003\n",
      "(Iteration 1141 / 2450) loss: 1.428804\n",
      "(Iteration 1151 / 2450) loss: 1.657321\n",
      "(Iteration 1161 / 2450) loss: 1.473787\n",
      "(Iteration 1171 / 2450) loss: 1.392295\n",
      "(Iteration 1181 / 2450) loss: 1.283485\n",
      "(Iteration 1191 / 2450) loss: 1.339210\n",
      "(Iteration 1201 / 2450) loss: 1.450255\n",
      "(Iteration 1211 / 2450) loss: 1.370651\n",
      "(Iteration 1221 / 2450) loss: 1.321184\n",
      "(Iteration 1231 / 2450) loss: 1.340355\n",
      "(Iteration 1241 / 2450) loss: 1.232297\n",
      "(Iteration 1251 / 2450) loss: 1.275447\n",
      "(Iteration 1261 / 2450) loss: 1.284320\n",
      "(Iteration 1271 / 2450) loss: 1.562133\n",
      "(Iteration 1281 / 2450) loss: 1.455811\n",
      "(Iteration 1291 / 2450) loss: 1.444866\n",
      "(Iteration 1301 / 2450) loss: 1.549154\n",
      "(Iteration 1311 / 2450) loss: 1.466652\n",
      "(Iteration 1321 / 2450) loss: 1.370144\n",
      "(Iteration 1331 / 2450) loss: 1.489449\n",
      "(Iteration 1341 / 2450) loss: 1.673148\n",
      "(Iteration 1351 / 2450) loss: 1.416559\n",
      "(Iteration 1361 / 2450) loss: 1.397914\n",
      "(Iteration 1371 / 2450) loss: 1.497275\n",
      "(Iteration 1381 / 2450) loss: 1.554406\n",
      "(Iteration 1391 / 2450) loss: 1.337766\n",
      "(Iteration 1401 / 2450) loss: 1.463084\n",
      "(Iteration 1411 / 2450) loss: 1.312401\n",
      "(Iteration 1421 / 2450) loss: 1.259145\n",
      "(Iteration 1431 / 2450) loss: 1.313501\n",
      "(Iteration 1441 / 2450) loss: 1.443161\n",
      "(Iteration 1451 / 2450) loss: 1.475554\n",
      "(Iteration 1461 / 2450) loss: 1.419353\n",
      "(Epoch 3 / 5) train acc: 0.491000; val_acc: 0.477000\n",
      "(Iteration 1471 / 2450) loss: 1.638324\n",
      "(Iteration 1481 / 2450) loss: 1.574973\n",
      "(Iteration 1491 / 2450) loss: 1.360621\n",
      "(Iteration 1501 / 2450) loss: 1.243582\n",
      "(Iteration 1511 / 2450) loss: 1.308341\n",
      "(Iteration 1521 / 2450) loss: 1.337553\n",
      "(Iteration 1531 / 2450) loss: 1.148058\n",
      "(Iteration 1541 / 2450) loss: 1.304693\n",
      "(Iteration 1551 / 2450) loss: 1.426530\n",
      "(Iteration 1561 / 2450) loss: 1.477229\n",
      "(Iteration 1571 / 2450) loss: 1.202855\n",
      "(Iteration 1581 / 2450) loss: 1.348770\n",
      "(Iteration 1591 / 2450) loss: 1.442915\n",
      "(Iteration 1601 / 2450) loss: 1.366727\n",
      "(Iteration 1611 / 2450) loss: 1.455662\n",
      "(Iteration 1621 / 2450) loss: 1.396075\n",
      "(Iteration 1631 / 2450) loss: 1.314419\n",
      "(Iteration 1641 / 2450) loss: 1.264923\n",
      "(Iteration 1651 / 2450) loss: 1.384334\n",
      "(Iteration 1661 / 2450) loss: 1.244285\n",
      "(Iteration 1671 / 2450) loss: 1.506570\n",
      "(Iteration 1681 / 2450) loss: 1.248164\n",
      "(Iteration 1691 / 2450) loss: 1.298491\n",
      "(Iteration 1701 / 2450) loss: 1.309282\n",
      "(Iteration 1711 / 2450) loss: 1.470486\n",
      "(Iteration 1721 / 2450) loss: 1.268914\n",
      "(Iteration 1731 / 2450) loss: 1.408628\n",
      "(Iteration 1741 / 2450) loss: 1.466713\n",
      "(Iteration 1751 / 2450) loss: 1.339307\n",
      "(Iteration 1761 / 2450) loss: 1.408002\n",
      "(Iteration 1771 / 2450) loss: 1.220310\n",
      "(Iteration 1781 / 2450) loss: 1.314972\n",
      "(Iteration 1791 / 2450) loss: 1.333960\n",
      "(Iteration 1801 / 2450) loss: 1.355852\n",
      "(Iteration 1811 / 2450) loss: 1.349084\n",
      "(Iteration 1821 / 2450) loss: 1.327598\n",
      "(Iteration 1831 / 2450) loss: 1.168272\n",
      "(Iteration 1841 / 2450) loss: 1.224942\n",
      "(Iteration 1851 / 2450) loss: 1.460443\n",
      "(Iteration 1861 / 2450) loss: 1.310488\n",
      "(Iteration 1871 / 2450) loss: 1.466776\n",
      "(Iteration 1881 / 2450) loss: 1.285712\n",
      "(Iteration 1891 / 2450) loss: 1.362699\n",
      "(Iteration 1901 / 2450) loss: 1.507213\n",
      "(Iteration 1911 / 2450) loss: 1.298019\n",
      "(Iteration 1921 / 2450) loss: 1.205132\n",
      "(Iteration 1931 / 2450) loss: 1.254168\n",
      "(Iteration 1941 / 2450) loss: 1.421314\n",
      "(Iteration 1951 / 2450) loss: 1.301128\n",
      "(Epoch 4 / 5) train acc: 0.523000; val_acc: 0.507000\n",
      "(Iteration 1961 / 2450) loss: 1.233373\n",
      "(Iteration 1971 / 2450) loss: 1.389859\n",
      "(Iteration 1981 / 2450) loss: 1.191207\n",
      "(Iteration 1991 / 2450) loss: 1.296452\n",
      "(Iteration 2001 / 2450) loss: 1.219170\n",
      "(Iteration 2011 / 2450) loss: 1.368882\n",
      "(Iteration 2021 / 2450) loss: 1.191478\n",
      "(Iteration 2031 / 2450) loss: 1.528414\n",
      "(Iteration 2041 / 2450) loss: 1.334347\n",
      "(Iteration 2051 / 2450) loss: 1.653531\n",
      "(Iteration 2061 / 2450) loss: 1.399260\n"
     ]
    },
    {
     "name": "stdout",
     "output_type": "stream",
     "text": [
      "(Iteration 2071 / 2450) loss: 1.325819\n",
      "(Iteration 2081 / 2450) loss: 1.427695\n",
      "(Iteration 2091 / 2450) loss: 1.430081\n",
      "(Iteration 2101 / 2450) loss: 1.120567\n",
      "(Iteration 2111 / 2450) loss: 1.204702\n",
      "(Iteration 2121 / 2450) loss: 1.501842\n",
      "(Iteration 2131 / 2450) loss: 1.347040\n",
      "(Iteration 2141 / 2450) loss: 1.503715\n",
      "(Iteration 2151 / 2450) loss: 1.428131\n",
      "(Iteration 2161 / 2450) loss: 1.158565\n",
      "(Iteration 2171 / 2450) loss: 1.810820\n",
      "(Iteration 2181 / 2450) loss: 1.327055\n",
      "(Iteration 2191 / 2450) loss: 1.258454\n",
      "(Iteration 2201 / 2450) loss: 1.260229\n",
      "(Iteration 2211 / 2450) loss: 1.165198\n",
      "(Iteration 2221 / 2450) loss: 1.521056\n",
      "(Iteration 2231 / 2450) loss: 1.355034\n",
      "(Iteration 2241 / 2450) loss: 1.242272\n",
      "(Iteration 2251 / 2450) loss: 1.444631\n",
      "(Iteration 2261 / 2450) loss: 1.259430\n",
      "(Iteration 2271 / 2450) loss: 1.210865\n",
      "(Iteration 2281 / 2450) loss: 1.304688\n",
      "(Iteration 2291 / 2450) loss: 1.313464\n",
      "(Iteration 2301 / 2450) loss: 1.241108\n",
      "(Iteration 2311 / 2450) loss: 1.455093\n",
      "(Iteration 2321 / 2450) loss: 1.252450\n",
      "(Iteration 2331 / 2450) loss: 1.206180\n",
      "(Iteration 2341 / 2450) loss: 1.214420\n",
      "(Iteration 2351 / 2450) loss: 1.601903\n",
      "(Iteration 2361 / 2450) loss: 1.250999\n",
      "(Iteration 2371 / 2450) loss: 1.261948\n",
      "(Iteration 2381 / 2450) loss: 1.215800\n",
      "(Iteration 2391 / 2450) loss: 1.253807\n",
      "(Iteration 2401 / 2450) loss: 1.385113\n",
      "(Iteration 2411 / 2450) loss: 1.273630\n",
      "(Iteration 2421 / 2450) loss: 1.031805\n",
      "(Iteration 2431 / 2450) loss: 1.389599\n",
      "(Iteration 2441 / 2450) loss: 1.367087\n",
      "(Epoch 5 / 5) train acc: 0.560000; val_acc: 0.490000\n"
     ]
    }
   ],
   "source": [
    "best_model = None\n",
    "################################################################################\n",
    "# TODO: Train the best FullyConnectedNet that you can on CIFAR-10. You might   #\n",
    "# find batch/layer normalization and dropout useful. Store your best model in  #\n",
    "# the best_model variable.                                                     #\n",
    "################################################################################\n",
    "model = FullyConnectedNet([100, 100, 100, 100, 100], weight_scale=5e-2, normalization=None)\n",
    "\n",
    "solver = Solver(model, data,\n",
    "              num_epochs=5, batch_size=100,\n",
    "              update_rule='adam',\n",
    "              optim_config={\n",
    "                'learning_rate': 1e-3\n",
    "              },\n",
    "              verbose=True)\n",
    "solvers[update_rule] = solver\n",
    "solver.train()\n",
    "best_model = solver.model\n",
    "################################################################################\n",
    "#                              END OF YOUR CODE                                #\n",
    "################################################################################"
   ]
  },
  {
   "cell_type": "markdown",
   "metadata": {
    "colab_type": "text",
    "id": "x526rV0JX1zB"
   },
   "source": [
    "# Test your model (without normalization)!\n",
    "Run your best model on the validation and test sets. You should achieve above 50% accuracy on the validation set."
   ]
  },
  {
   "cell_type": "code",
   "execution_count": 28,
   "metadata": {
    "colab": {
     "autoexec": {
      "startup": false,
      "wait_interval": 0
     }
    },
    "colab_type": "code",
    "id": "WdLn46feX1zD"
   },
   "outputs": [
    {
     "name": "stdout",
     "output_type": "stream",
     "text": [
      "Validation set accuracy:  0.507\n",
      "Test set accuracy:  0.489\n"
     ]
    }
   ],
   "source": [
    "y_test_pred = np.argmax(best_model.loss(data['X_test']), axis=1)\n",
    "y_val_pred = np.argmax(best_model.loss(data['X_val']), axis=1)\n",
    "print('Validation set accuracy: ', (y_val_pred == data['y_val']).mean())\n",
    "print('Test set accuracy: ', (y_test_pred == data['y_test']).mean())"
   ]
  },
  {
   "cell_type": "markdown",
   "metadata": {},
   "source": [
    "# Batchnorm"
   ]
  },
  {
   "cell_type": "code",
   "execution_count": 21,
   "metadata": {
    "colab": {
     "autoexec": {
      "startup": false,
      "wait_interval": 0
     }
    },
    "colab_type": "code",
    "id": "IMRwhtdmX1y8",
    "scrolled": true
   },
   "outputs": [
    {
     "name": "stdout",
     "output_type": "stream",
     "text": [
      "(Iteration 1 / 2450) loss: 2.346128\n",
      "(Epoch 0 / 5) train acc: 0.110000; val_acc: 0.111000\n",
      "(Iteration 11 / 2450) loss: 2.227417\n",
      "(Iteration 21 / 2450) loss: 2.071271\n",
      "(Iteration 31 / 2450) loss: 1.895459\n",
      "(Iteration 41 / 2450) loss: 1.870433\n",
      "(Iteration 51 / 2450) loss: 1.908451\n",
      "(Iteration 61 / 2450) loss: 1.670893\n",
      "(Iteration 71 / 2450) loss: 1.802741\n",
      "(Iteration 81 / 2450) loss: 1.929630\n",
      "(Iteration 91 / 2450) loss: 1.894567\n",
      "(Iteration 101 / 2450) loss: 1.696077\n",
      "(Iteration 111 / 2450) loss: 1.722696\n",
      "(Iteration 121 / 2450) loss: 1.681347\n",
      "(Iteration 131 / 2450) loss: 1.784726\n",
      "(Iteration 141 / 2450) loss: 1.641428\n",
      "(Iteration 151 / 2450) loss: 1.701597\n",
      "(Iteration 161 / 2450) loss: 1.640355\n",
      "(Iteration 171 / 2450) loss: 1.614011\n",
      "(Iteration 181 / 2450) loss: 1.686112\n",
      "(Iteration 191 / 2450) loss: 1.570601\n",
      "(Iteration 201 / 2450) loss: 1.604875\n",
      "(Iteration 211 / 2450) loss: 1.687378\n",
      "(Iteration 221 / 2450) loss: 1.570984\n",
      "(Iteration 231 / 2450) loss: 1.736768\n",
      "(Iteration 241 / 2450) loss: 1.815374\n",
      "(Iteration 251 / 2450) loss: 1.484397\n",
      "(Iteration 261 / 2450) loss: 1.774282\n",
      "(Iteration 271 / 2450) loss: 1.711022\n",
      "(Iteration 281 / 2450) loss: 1.816810\n",
      "(Iteration 291 / 2450) loss: 1.439670\n",
      "(Iteration 301 / 2450) loss: 1.586839\n",
      "(Iteration 311 / 2450) loss: 1.517006\n",
      "(Iteration 321 / 2450) loss: 1.483141\n",
      "(Iteration 331 / 2450) loss: 1.387416\n",
      "(Iteration 341 / 2450) loss: 1.526636\n",
      "(Iteration 351 / 2450) loss: 1.521118\n",
      "(Iteration 361 / 2450) loss: 1.650699\n",
      "(Iteration 371 / 2450) loss: 1.399346\n",
      "(Iteration 381 / 2450) loss: 1.650694\n",
      "(Iteration 391 / 2450) loss: 1.444363\n",
      "(Iteration 401 / 2450) loss: 1.515533\n",
      "(Iteration 411 / 2450) loss: 1.610334\n",
      "(Iteration 421 / 2450) loss: 1.567865\n",
      "(Iteration 431 / 2450) loss: 1.550409\n",
      "(Iteration 441 / 2450) loss: 1.648598\n",
      "(Iteration 451 / 2450) loss: 1.611989\n",
      "(Iteration 461 / 2450) loss: 1.454662\n",
      "(Iteration 471 / 2450) loss: 1.378460\n",
      "(Iteration 481 / 2450) loss: 1.617729\n",
      "(Epoch 1 / 5) train acc: 0.478000; val_acc: 0.474000\n",
      "(Iteration 491 / 2450) loss: 1.774484\n",
      "(Iteration 501 / 2450) loss: 1.476915\n",
      "(Iteration 511 / 2450) loss: 1.725072\n",
      "(Iteration 521 / 2450) loss: 1.533831\n",
      "(Iteration 531 / 2450) loss: 1.377477\n",
      "(Iteration 541 / 2450) loss: 1.594486\n",
      "(Iteration 551 / 2450) loss: 1.437401\n",
      "(Iteration 561 / 2450) loss: 1.458074\n",
      "(Iteration 571 / 2450) loss: 1.490339\n",
      "(Iteration 581 / 2450) loss: 1.417338\n",
      "(Iteration 591 / 2450) loss: 1.426427\n",
      "(Iteration 601 / 2450) loss: 1.429375\n",
      "(Iteration 611 / 2450) loss: 1.403141\n",
      "(Iteration 621 / 2450) loss: 1.325250\n",
      "(Iteration 631 / 2450) loss: 1.458375\n",
      "(Iteration 641 / 2450) loss: 1.469744\n",
      "(Iteration 651 / 2450) loss: 1.435643\n",
      "(Iteration 661 / 2450) loss: 1.564003\n",
      "(Iteration 671 / 2450) loss: 1.675345\n",
      "(Iteration 681 / 2450) loss: 1.512996\n",
      "(Iteration 691 / 2450) loss: 1.380740\n",
      "(Iteration 701 / 2450) loss: 1.428231\n",
      "(Iteration 711 / 2450) loss: 1.363721\n",
      "(Iteration 721 / 2450) loss: 1.423974\n",
      "(Iteration 731 / 2450) loss: 1.444393\n",
      "(Iteration 741 / 2450) loss: 1.217983\n",
      "(Iteration 751 / 2450) loss: 1.427029\n",
      "(Iteration 761 / 2450) loss: 1.402684\n",
      "(Iteration 771 / 2450) loss: 1.604288\n",
      "(Iteration 781 / 2450) loss: 1.515103\n",
      "(Iteration 791 / 2450) loss: 1.463752\n",
      "(Iteration 801 / 2450) loss: 1.342855\n",
      "(Iteration 811 / 2450) loss: 1.342361\n",
      "(Iteration 821 / 2450) loss: 1.233136\n",
      "(Iteration 831 / 2450) loss: 1.461766\n",
      "(Iteration 841 / 2450) loss: 1.240444\n",
      "(Iteration 851 / 2450) loss: 1.392607\n",
      "(Iteration 861 / 2450) loss: 1.390201\n",
      "(Iteration 871 / 2450) loss: 1.502902\n",
      "(Iteration 881 / 2450) loss: 1.413848\n",
      "(Iteration 891 / 2450) loss: 1.406592\n",
      "(Iteration 901 / 2450) loss: 1.367372\n",
      "(Iteration 911 / 2450) loss: 1.458873\n",
      "(Iteration 921 / 2450) loss: 1.425939\n",
      "(Iteration 931 / 2450) loss: 1.410199\n",
      "(Iteration 941 / 2450) loss: 1.376145\n",
      "(Iteration 951 / 2450) loss: 1.388117\n",
      "(Iteration 961 / 2450) loss: 1.171728\n",
      "(Iteration 971 / 2450) loss: 1.567168\n",
      "(Epoch 2 / 5) train acc: 0.529000; val_acc: 0.490000\n",
      "(Iteration 981 / 2450) loss: 1.461128\n",
      "(Iteration 991 / 2450) loss: 1.355429\n",
      "(Iteration 1001 / 2450) loss: 1.289869\n",
      "(Iteration 1011 / 2450) loss: 1.542752\n",
      "(Iteration 1021 / 2450) loss: 1.380229\n",
      "(Iteration 1031 / 2450) loss: 1.340416\n",
      "(Iteration 1041 / 2450) loss: 1.261955\n",
      "(Iteration 1051 / 2450) loss: 1.532209\n",
      "(Iteration 1061 / 2450) loss: 1.339313\n",
      "(Iteration 1071 / 2450) loss: 1.274895\n",
      "(Iteration 1081 / 2450) loss: 1.490783\n",
      "(Iteration 1091 / 2450) loss: 1.295909\n",
      "(Iteration 1101 / 2450) loss: 1.445803\n",
      "(Iteration 1111 / 2450) loss: 1.401389\n",
      "(Iteration 1121 / 2450) loss: 1.086086\n",
      "(Iteration 1131 / 2450) loss: 1.352135\n",
      "(Iteration 1141 / 2450) loss: 1.294109\n",
      "(Iteration 1151 / 2450) loss: 1.465166\n",
      "(Iteration 1161 / 2450) loss: 1.286405\n",
      "(Iteration 1171 / 2450) loss: 1.280590\n",
      "(Iteration 1181 / 2450) loss: 1.387067\n",
      "(Iteration 1191 / 2450) loss: 1.324027\n",
      "(Iteration 1201 / 2450) loss: 1.502276\n",
      "(Iteration 1211 / 2450) loss: 1.366871\n",
      "(Iteration 1221 / 2450) loss: 1.262897\n",
      "(Iteration 1231 / 2450) loss: 1.337668\n",
      "(Iteration 1241 / 2450) loss: 1.331522\n",
      "(Iteration 1251 / 2450) loss: 1.262224\n",
      "(Iteration 1261 / 2450) loss: 1.399666\n",
      "(Iteration 1271 / 2450) loss: 1.271681\n",
      "(Iteration 1281 / 2450) loss: 1.113409\n",
      "(Iteration 1291 / 2450) loss: 1.376951\n",
      "(Iteration 1301 / 2450) loss: 1.198243\n",
      "(Iteration 1311 / 2450) loss: 1.395861\n",
      "(Iteration 1321 / 2450) loss: 1.206332\n",
      "(Iteration 1331 / 2450) loss: 1.263262\n",
      "(Iteration 1341 / 2450) loss: 1.344230\n",
      "(Iteration 1351 / 2450) loss: 1.427175\n",
      "(Iteration 1361 / 2450) loss: 1.256706\n",
      "(Iteration 1371 / 2450) loss: 1.320280\n",
      "(Iteration 1381 / 2450) loss: 1.185074\n",
      "(Iteration 1391 / 2450) loss: 1.247326\n",
      "(Iteration 1401 / 2450) loss: 1.607860\n",
      "(Iteration 1411 / 2450) loss: 1.227518\n",
      "(Iteration 1421 / 2450) loss: 1.098856\n",
      "(Iteration 1431 / 2450) loss: 1.235528\n",
      "(Iteration 1441 / 2450) loss: 1.358760\n",
      "(Iteration 1451 / 2450) loss: 1.322340\n",
      "(Iteration 1461 / 2450) loss: 1.249860\n",
      "(Epoch 3 / 5) train acc: 0.574000; val_acc: 0.529000\n",
      "(Iteration 1471 / 2450) loss: 1.204790\n",
      "(Iteration 1481 / 2450) loss: 1.250022\n",
      "(Iteration 1491 / 2450) loss: 1.293123\n",
      "(Iteration 1501 / 2450) loss: 1.439444\n",
      "(Iteration 1511 / 2450) loss: 1.224462\n",
      "(Iteration 1521 / 2450) loss: 1.307047\n",
      "(Iteration 1531 / 2450) loss: 1.281057\n",
      "(Iteration 1541 / 2450) loss: 1.316033\n",
      "(Iteration 1551 / 2450) loss: 1.231226\n",
      "(Iteration 1561 / 2450) loss: 1.287018\n",
      "(Iteration 1571 / 2450) loss: 1.527976\n",
      "(Iteration 1581 / 2450) loss: 1.359443\n",
      "(Iteration 1591 / 2450) loss: 1.524931\n",
      "(Iteration 1601 / 2450) loss: 1.188218\n",
      "(Iteration 1611 / 2450) loss: 1.167351\n",
      "(Iteration 1621 / 2450) loss: 1.253924\n",
      "(Iteration 1631 / 2450) loss: 1.147227\n",
      "(Iteration 1641 / 2450) loss: 1.145538\n",
      "(Iteration 1651 / 2450) loss: 1.364327\n",
      "(Iteration 1661 / 2450) loss: 1.245089\n",
      "(Iteration 1671 / 2450) loss: 1.113140\n",
      "(Iteration 1681 / 2450) loss: 1.235387\n",
      "(Iteration 1691 / 2450) loss: 1.172143\n",
      "(Iteration 1701 / 2450) loss: 1.346519\n",
      "(Iteration 1711 / 2450) loss: 1.088174\n",
      "(Iteration 1721 / 2450) loss: 1.206174\n",
      "(Iteration 1731 / 2450) loss: 1.061109\n",
      "(Iteration 1741 / 2450) loss: 1.180431\n",
      "(Iteration 1751 / 2450) loss: 1.248858\n",
      "(Iteration 1761 / 2450) loss: 1.283882\n",
      "(Iteration 1771 / 2450) loss: 1.161551\n",
      "(Iteration 1781 / 2450) loss: 1.345575\n",
      "(Iteration 1791 / 2450) loss: 1.273198\n",
      "(Iteration 1801 / 2450) loss: 1.392294\n",
      "(Iteration 1811 / 2450) loss: 1.119223\n",
      "(Iteration 1821 / 2450) loss: 1.025356\n",
      "(Iteration 1831 / 2450) loss: 1.374615\n",
      "(Iteration 1841 / 2450) loss: 1.303616\n",
      "(Iteration 1851 / 2450) loss: 1.292393\n",
      "(Iteration 1861 / 2450) loss: 0.959277\n",
      "(Iteration 1871 / 2450) loss: 1.190295\n",
      "(Iteration 1881 / 2450) loss: 1.252263\n",
      "(Iteration 1891 / 2450) loss: 1.073105\n",
      "(Iteration 1901 / 2450) loss: 1.132287\n",
      "(Iteration 1911 / 2450) loss: 1.146831\n",
      "(Iteration 1921 / 2450) loss: 1.322328\n",
      "(Iteration 1931 / 2450) loss: 1.132889\n",
      "(Iteration 1941 / 2450) loss: 0.960189\n",
      "(Iteration 1951 / 2450) loss: 1.443281\n",
      "(Epoch 4 / 5) train acc: 0.569000; val_acc: 0.517000\n",
      "(Iteration 1961 / 2450) loss: 1.189183\n",
      "(Iteration 1971 / 2450) loss: 1.319210\n",
      "(Iteration 1981 / 2450) loss: 1.312454\n",
      "(Iteration 1991 / 2450) loss: 1.272465\n",
      "(Iteration 2001 / 2450) loss: 1.278900\n",
      "(Iteration 2011 / 2450) loss: 1.157383\n",
      "(Iteration 2021 / 2450) loss: 1.071479\n",
      "(Iteration 2031 / 2450) loss: 1.410182\n",
      "(Iteration 2041 / 2450) loss: 1.338677\n",
      "(Iteration 2051 / 2450) loss: 1.228551\n",
      "(Iteration 2061 / 2450) loss: 1.166712\n",
      "(Iteration 2071 / 2450) loss: 1.223148\n"
     ]
    },
    {
     "name": "stdout",
     "output_type": "stream",
     "text": [
      "(Iteration 2081 / 2450) loss: 1.205361\n",
      "(Iteration 2091 / 2450) loss: 1.275603\n",
      "(Iteration 2101 / 2450) loss: 1.341001\n",
      "(Iteration 2111 / 2450) loss: 1.232225\n",
      "(Iteration 2121 / 2450) loss: 1.127055\n",
      "(Iteration 2131 / 2450) loss: 1.251778\n",
      "(Iteration 2141 / 2450) loss: 1.376937\n",
      "(Iteration 2151 / 2450) loss: 1.270224\n",
      "(Iteration 2161 / 2450) loss: 1.000608\n",
      "(Iteration 2171 / 2450) loss: 1.140176\n",
      "(Iteration 2181 / 2450) loss: 1.389549\n",
      "(Iteration 2191 / 2450) loss: 1.394106\n",
      "(Iteration 2201 / 2450) loss: 1.139217\n",
      "(Iteration 2211 / 2450) loss: 1.159664\n",
      "(Iteration 2221 / 2450) loss: 1.388447\n",
      "(Iteration 2231 / 2450) loss: 1.220418\n",
      "(Iteration 2241 / 2450) loss: 1.322124\n",
      "(Iteration 2251 / 2450) loss: 1.259741\n",
      "(Iteration 2261 / 2450) loss: 1.082291\n",
      "(Iteration 2271 / 2450) loss: 1.046747\n",
      "(Iteration 2281 / 2450) loss: 1.099460\n",
      "(Iteration 2291 / 2450) loss: 1.387039\n",
      "(Iteration 2301 / 2450) loss: 1.319700\n",
      "(Iteration 2311 / 2450) loss: 1.348172\n",
      "(Iteration 2321 / 2450) loss: 1.157372\n",
      "(Iteration 2331 / 2450) loss: 1.097568\n",
      "(Iteration 2341 / 2450) loss: 1.100128\n",
      "(Iteration 2351 / 2450) loss: 0.992259\n",
      "(Iteration 2361 / 2450) loss: 1.308204\n",
      "(Iteration 2371 / 2450) loss: 1.237613\n",
      "(Iteration 2381 / 2450) loss: 1.197295\n",
      "(Iteration 2391 / 2450) loss: 1.254089\n",
      "(Iteration 2401 / 2450) loss: 1.102197\n",
      "(Iteration 2411 / 2450) loss: 1.175052\n",
      "(Iteration 2421 / 2450) loss: 1.197055\n",
      "(Iteration 2431 / 2450) loss: 1.164382\n",
      "(Iteration 2441 / 2450) loss: 1.052693\n",
      "(Epoch 5 / 5) train acc: 0.590000; val_acc: 0.534000\n"
     ]
    }
   ],
   "source": [
    "best_model = None\n",
    "################################################################################\n",
    "# TODO: Train the best FullyConnectedNet that you can on CIFAR-10. You might   #\n",
    "# find batch/layer normalization and dropout useful. Store your best model in  #\n",
    "# the best_model variable.                                                     #\n",
    "################################################################################\n",
    "model = FullyConnectedNet([100, 100, 100, 100, 100], weight_scale=5e-2, normalization='batchnorm')\n",
    "\n",
    "solver = Solver(model, data,\n",
    "              num_epochs=5, batch_size=100,\n",
    "              update_rule='adam',\n",
    "              optim_config={\n",
    "                'learning_rate': 1e-3\n",
    "              },\n",
    "              verbose=True)\n",
    "solvers[update_rule] = solver\n",
    "solver.train()\n",
    "best_model = solver.model\n",
    "################################################################################\n",
    "#                              END OF YOUR CODE                                #\n",
    "################################################################################"
   ]
  },
  {
   "cell_type": "markdown",
   "metadata": {
    "colab_type": "text",
    "id": "x526rV0JX1zB"
   },
   "source": [
    "# Test your model (batchnorm)!\n",
    "Run your best model on the validation and test sets. You should achieve above 50% accuracy on the validation set."
   ]
  },
  {
   "cell_type": "code",
   "execution_count": 22,
   "metadata": {
    "colab": {
     "autoexec": {
      "startup": false,
      "wait_interval": 0
     }
    },
    "colab_type": "code",
    "id": "WdLn46feX1zD"
   },
   "outputs": [
    {
     "name": "stdout",
     "output_type": "stream",
     "text": [
      "Validation set accuracy:  0.534\n",
      "Test set accuracy:  0.499\n"
     ]
    }
   ],
   "source": [
    "y_test_pred = np.argmax(best_model.loss(data['X_test']), axis=1)\n",
    "y_val_pred = np.argmax(best_model.loss(data['X_val']), axis=1)\n",
    "print('Validation set accuracy: ', (y_val_pred == data['y_val']).mean())\n",
    "print('Test set accuracy: ', (y_test_pred == data['y_test']).mean())"
   ]
  },
  {
   "cell_type": "markdown",
   "metadata": {},
   "source": [
    "# Layernorm"
   ]
  },
  {
   "cell_type": "code",
   "execution_count": 23,
   "metadata": {
    "colab": {
     "autoexec": {
      "startup": false,
      "wait_interval": 0
     }
    },
    "colab_type": "code",
    "id": "IMRwhtdmX1y8",
    "scrolled": true
   },
   "outputs": [
    {
     "name": "stdout",
     "output_type": "stream",
     "text": [
      "(Iteration 1 / 2450) loss: 2.370636\n",
      "(Epoch 0 / 5) train acc: 0.113000; val_acc: 0.136000\n",
      "(Iteration 11 / 2450) loss: 2.153480\n",
      "(Iteration 21 / 2450) loss: 2.019674\n",
      "(Iteration 31 / 2450) loss: 1.947208\n",
      "(Iteration 41 / 2450) loss: 1.850173\n",
      "(Iteration 51 / 2450) loss: 1.788288\n",
      "(Iteration 61 / 2450) loss: 1.807032\n",
      "(Iteration 71 / 2450) loss: 1.767165\n",
      "(Iteration 81 / 2450) loss: 1.670055\n",
      "(Iteration 91 / 2450) loss: 1.789864\n",
      "(Iteration 101 / 2450) loss: 1.834674\n",
      "(Iteration 111 / 2450) loss: 1.529814\n",
      "(Iteration 121 / 2450) loss: 1.766765\n",
      "(Iteration 131 / 2450) loss: 1.721870\n",
      "(Iteration 141 / 2450) loss: 1.715628\n",
      "(Iteration 151 / 2450) loss: 1.785633\n",
      "(Iteration 161 / 2450) loss: 1.765889\n",
      "(Iteration 171 / 2450) loss: 1.630189\n",
      "(Iteration 181 / 2450) loss: 1.727545\n",
      "(Iteration 191 / 2450) loss: 1.526355\n",
      "(Iteration 201 / 2450) loss: 1.445656\n",
      "(Iteration 211 / 2450) loss: 1.704647\n",
      "(Iteration 221 / 2450) loss: 1.596507\n",
      "(Iteration 231 / 2450) loss: 1.669111\n",
      "(Iteration 241 / 2450) loss: 1.676199\n",
      "(Iteration 251 / 2450) loss: 1.644905\n",
      "(Iteration 261 / 2450) loss: 1.669139\n",
      "(Iteration 271 / 2450) loss: 1.646093\n",
      "(Iteration 281 / 2450) loss: 1.764792\n",
      "(Iteration 291 / 2450) loss: 1.696693\n",
      "(Iteration 301 / 2450) loss: 1.532528\n",
      "(Iteration 311 / 2450) loss: 1.538486\n",
      "(Iteration 321 / 2450) loss: 1.785198\n",
      "(Iteration 331 / 2450) loss: 1.539803\n",
      "(Iteration 341 / 2450) loss: 1.599224\n",
      "(Iteration 351 / 2450) loss: 1.557135\n",
      "(Iteration 361 / 2450) loss: 1.695959\n",
      "(Iteration 371 / 2450) loss: 1.749229\n",
      "(Iteration 381 / 2450) loss: 1.457357\n",
      "(Iteration 391 / 2450) loss: 1.793854\n",
      "(Iteration 401 / 2450) loss: 1.625649\n",
      "(Iteration 411 / 2450) loss: 1.447322\n",
      "(Iteration 421 / 2450) loss: 1.743855\n",
      "(Iteration 431 / 2450) loss: 1.620279\n",
      "(Iteration 441 / 2450) loss: 1.652691\n",
      "(Iteration 451 / 2450) loss: 1.668259\n",
      "(Iteration 461 / 2450) loss: 1.484309\n",
      "(Iteration 471 / 2450) loss: 1.546455\n",
      "(Iteration 481 / 2450) loss: 1.529843\n",
      "(Epoch 1 / 5) train acc: 0.454000; val_acc: 0.454000\n",
      "(Iteration 491 / 2450) loss: 1.537011\n",
      "(Iteration 501 / 2450) loss: 1.520136\n",
      "(Iteration 511 / 2450) loss: 1.420267\n",
      "(Iteration 521 / 2450) loss: 1.406721\n",
      "(Iteration 531 / 2450) loss: 1.367018\n",
      "(Iteration 541 / 2450) loss: 1.495344\n",
      "(Iteration 551 / 2450) loss: 1.476726\n",
      "(Iteration 561 / 2450) loss: 1.386490\n",
      "(Iteration 571 / 2450) loss: 1.445084\n",
      "(Iteration 581 / 2450) loss: 1.508136\n",
      "(Iteration 591 / 2450) loss: 1.521027\n",
      "(Iteration 601 / 2450) loss: 1.395545\n",
      "(Iteration 611 / 2450) loss: 1.510186\n",
      "(Iteration 621 / 2450) loss: 1.498074\n",
      "(Iteration 631 / 2450) loss: 1.566000\n",
      "(Iteration 641 / 2450) loss: 1.743396\n",
      "(Iteration 651 / 2450) loss: 1.507982\n",
      "(Iteration 661 / 2450) loss: 1.451402\n",
      "(Iteration 671 / 2450) loss: 1.648469\n",
      "(Iteration 681 / 2450) loss: 1.506416\n",
      "(Iteration 691 / 2450) loss: 1.470616\n",
      "(Iteration 701 / 2450) loss: 1.246425\n",
      "(Iteration 711 / 2450) loss: 1.460825\n",
      "(Iteration 721 / 2450) loss: 1.427914\n",
      "(Iteration 731 / 2450) loss: 1.369152\n",
      "(Iteration 741 / 2450) loss: 1.470666\n",
      "(Iteration 751 / 2450) loss: 1.378171\n",
      "(Iteration 761 / 2450) loss: 1.463458\n",
      "(Iteration 771 / 2450) loss: 1.508181\n",
      "(Iteration 781 / 2450) loss: 1.632906\n",
      "(Iteration 791 / 2450) loss: 1.296077\n",
      "(Iteration 801 / 2450) loss: 1.435835\n",
      "(Iteration 811 / 2450) loss: 1.622311\n",
      "(Iteration 821 / 2450) loss: 1.310353\n",
      "(Iteration 831 / 2450) loss: 1.365275\n",
      "(Iteration 841 / 2450) loss: 1.400809\n",
      "(Iteration 851 / 2450) loss: 1.373818\n",
      "(Iteration 861 / 2450) loss: 1.727637\n",
      "(Iteration 871 / 2450) loss: 1.612827\n",
      "(Iteration 881 / 2450) loss: 1.404623\n",
      "(Iteration 891 / 2450) loss: 1.385025\n",
      "(Iteration 901 / 2450) loss: 1.339952\n",
      "(Iteration 911 / 2450) loss: 1.502791\n",
      "(Iteration 921 / 2450) loss: 1.405623\n",
      "(Iteration 931 / 2450) loss: 1.262974\n",
      "(Iteration 941 / 2450) loss: 1.379445\n",
      "(Iteration 951 / 2450) loss: 1.589713\n",
      "(Iteration 961 / 2450) loss: 1.436221\n",
      "(Iteration 971 / 2450) loss: 1.594516\n",
      "(Epoch 2 / 5) train acc: 0.533000; val_acc: 0.491000\n",
      "(Iteration 981 / 2450) loss: 1.520365\n",
      "(Iteration 991 / 2450) loss: 1.224934\n",
      "(Iteration 1001 / 2450) loss: 1.450067\n",
      "(Iteration 1011 / 2450) loss: 1.430282\n",
      "(Iteration 1021 / 2450) loss: 1.316728\n",
      "(Iteration 1031 / 2450) loss: 1.557901\n",
      "(Iteration 1041 / 2450) loss: 1.460677\n",
      "(Iteration 1051 / 2450) loss: 1.483736\n",
      "(Iteration 1061 / 2450) loss: 1.541840\n",
      "(Iteration 1071 / 2450) loss: 1.203947\n",
      "(Iteration 1081 / 2450) loss: 1.452360\n",
      "(Iteration 1091 / 2450) loss: 1.385663\n",
      "(Iteration 1101 / 2450) loss: 1.392744\n",
      "(Iteration 1111 / 2450) loss: 1.296495\n",
      "(Iteration 1121 / 2450) loss: 1.305269\n",
      "(Iteration 1131 / 2450) loss: 1.243389\n",
      "(Iteration 1141 / 2450) loss: 1.281967\n",
      "(Iteration 1151 / 2450) loss: 1.459760\n",
      "(Iteration 1161 / 2450) loss: 1.358842\n",
      "(Iteration 1171 / 2450) loss: 1.468315\n",
      "(Iteration 1181 / 2450) loss: 1.338628\n",
      "(Iteration 1191 / 2450) loss: 1.121067\n",
      "(Iteration 1201 / 2450) loss: 1.258898\n",
      "(Iteration 1211 / 2450) loss: 1.210633\n",
      "(Iteration 1221 / 2450) loss: 1.274959\n",
      "(Iteration 1231 / 2450) loss: 1.542475\n",
      "(Iteration 1241 / 2450) loss: 1.407601\n",
      "(Iteration 1251 / 2450) loss: 1.293892\n",
      "(Iteration 1261 / 2450) loss: 1.311835\n",
      "(Iteration 1271 / 2450) loss: 1.383523\n",
      "(Iteration 1281 / 2450) loss: 1.337200\n",
      "(Iteration 1291 / 2450) loss: 1.248551\n",
      "(Iteration 1301 / 2450) loss: 1.432908\n",
      "(Iteration 1311 / 2450) loss: 1.240767\n",
      "(Iteration 1321 / 2450) loss: 1.318017\n",
      "(Iteration 1331 / 2450) loss: 1.246099\n",
      "(Iteration 1341 / 2450) loss: 1.347698\n",
      "(Iteration 1351 / 2450) loss: 1.438277\n",
      "(Iteration 1361 / 2450) loss: 1.434572\n",
      "(Iteration 1371 / 2450) loss: 1.398933\n",
      "(Iteration 1381 / 2450) loss: 1.187200\n",
      "(Iteration 1391 / 2450) loss: 1.380507\n",
      "(Iteration 1401 / 2450) loss: 1.415802\n",
      "(Iteration 1411 / 2450) loss: 1.412348\n",
      "(Iteration 1421 / 2450) loss: 1.066680\n",
      "(Iteration 1431 / 2450) loss: 1.244485\n",
      "(Iteration 1441 / 2450) loss: 1.275248\n",
      "(Iteration 1451 / 2450) loss: 1.242603\n",
      "(Iteration 1461 / 2450) loss: 1.391608\n",
      "(Epoch 3 / 5) train acc: 0.547000; val_acc: 0.511000\n",
      "(Iteration 1471 / 2450) loss: 1.503300\n",
      "(Iteration 1481 / 2450) loss: 1.248445\n",
      "(Iteration 1491 / 2450) loss: 1.322678\n",
      "(Iteration 1501 / 2450) loss: 1.265072\n",
      "(Iteration 1511 / 2450) loss: 1.168380\n",
      "(Iteration 1521 / 2450) loss: 1.338155\n",
      "(Iteration 1531 / 2450) loss: 1.528056\n",
      "(Iteration 1541 / 2450) loss: 1.320564\n",
      "(Iteration 1551 / 2450) loss: 1.401820\n",
      "(Iteration 1561 / 2450) loss: 1.418413\n",
      "(Iteration 1571 / 2450) loss: 1.301152\n",
      "(Iteration 1581 / 2450) loss: 1.309341\n",
      "(Iteration 1591 / 2450) loss: 1.365467\n",
      "(Iteration 1601 / 2450) loss: 1.265743\n",
      "(Iteration 1611 / 2450) loss: 1.436342\n",
      "(Iteration 1621 / 2450) loss: 1.229652\n",
      "(Iteration 1631 / 2450) loss: 1.358631\n",
      "(Iteration 1641 / 2450) loss: 1.363384\n",
      "(Iteration 1651 / 2450) loss: 1.043335\n",
      "(Iteration 1661 / 2450) loss: 1.389716\n",
      "(Iteration 1671 / 2450) loss: 1.352282\n",
      "(Iteration 1681 / 2450) loss: 1.199996\n",
      "(Iteration 1691 / 2450) loss: 1.333482\n",
      "(Iteration 1701 / 2450) loss: 1.371461\n",
      "(Iteration 1711 / 2450) loss: 1.439544\n",
      "(Iteration 1721 / 2450) loss: 1.176510\n",
      "(Iteration 1731 / 2450) loss: 1.201174\n",
      "(Iteration 1741 / 2450) loss: 1.451676\n",
      "(Iteration 1751 / 2450) loss: 1.112084\n",
      "(Iteration 1761 / 2450) loss: 1.394728\n",
      "(Iteration 1771 / 2450) loss: 1.116826\n",
      "(Iteration 1781 / 2450) loss: 1.373138\n",
      "(Iteration 1791 / 2450) loss: 1.293271\n",
      "(Iteration 1801 / 2450) loss: 1.306857\n",
      "(Iteration 1811 / 2450) loss: 1.448955\n",
      "(Iteration 1821 / 2450) loss: 1.373539\n",
      "(Iteration 1831 / 2450) loss: 1.198562\n",
      "(Iteration 1841 / 2450) loss: 1.264164\n",
      "(Iteration 1851 / 2450) loss: 1.329580\n",
      "(Iteration 1861 / 2450) loss: 1.238385\n",
      "(Iteration 1871 / 2450) loss: 1.347233\n",
      "(Iteration 1881 / 2450) loss: 1.300049\n",
      "(Iteration 1891 / 2450) loss: 1.264250\n",
      "(Iteration 1901 / 2450) loss: 1.271060\n",
      "(Iteration 1911 / 2450) loss: 1.301264\n",
      "(Iteration 1921 / 2450) loss: 1.378719\n",
      "(Iteration 1931 / 2450) loss: 1.313575\n",
      "(Iteration 1941 / 2450) loss: 1.240478\n",
      "(Iteration 1951 / 2450) loss: 1.197630\n",
      "(Epoch 4 / 5) train acc: 0.571000; val_acc: 0.502000\n",
      "(Iteration 1961 / 2450) loss: 1.203337\n",
      "(Iteration 1971 / 2450) loss: 1.181621\n",
      "(Iteration 1981 / 2450) loss: 1.240941\n",
      "(Iteration 1991 / 2450) loss: 1.517741\n",
      "(Iteration 2001 / 2450) loss: 1.302189\n",
      "(Iteration 2011 / 2450) loss: 1.299145\n",
      "(Iteration 2021 / 2450) loss: 1.322206\n",
      "(Iteration 2031 / 2450) loss: 1.333352\n",
      "(Iteration 2041 / 2450) loss: 1.203730\n",
      "(Iteration 2051 / 2450) loss: 1.334188\n",
      "(Iteration 2061 / 2450) loss: 1.372738\n",
      "(Iteration 2071 / 2450) loss: 1.188744\n"
     ]
    },
    {
     "name": "stdout",
     "output_type": "stream",
     "text": [
      "(Iteration 2081 / 2450) loss: 1.144960\n",
      "(Iteration 2091 / 2450) loss: 1.400430\n",
      "(Iteration 2101 / 2450) loss: 1.175730\n",
      "(Iteration 2111 / 2450) loss: 1.216350\n",
      "(Iteration 2121 / 2450) loss: 1.237084\n",
      "(Iteration 2131 / 2450) loss: 1.260348\n",
      "(Iteration 2141 / 2450) loss: 1.266480\n",
      "(Iteration 2151 / 2450) loss: 1.231003\n",
      "(Iteration 2161 / 2450) loss: 1.226392\n",
      "(Iteration 2171 / 2450) loss: 1.347502\n",
      "(Iteration 2181 / 2450) loss: 1.256518\n",
      "(Iteration 2191 / 2450) loss: 1.052281\n",
      "(Iteration 2201 / 2450) loss: 0.996699\n",
      "(Iteration 2211 / 2450) loss: 1.050597\n",
      "(Iteration 2221 / 2450) loss: 1.308133\n",
      "(Iteration 2231 / 2450) loss: 1.394002\n",
      "(Iteration 2241 / 2450) loss: 1.226457\n",
      "(Iteration 2251 / 2450) loss: 1.081804\n",
      "(Iteration 2261 / 2450) loss: 1.267733\n",
      "(Iteration 2271 / 2450) loss: 1.213022\n",
      "(Iteration 2281 / 2450) loss: 1.241967\n",
      "(Iteration 2291 / 2450) loss: 1.258822\n",
      "(Iteration 2301 / 2450) loss: 1.284764\n",
      "(Iteration 2311 / 2450) loss: 1.176435\n",
      "(Iteration 2321 / 2450) loss: 1.069128\n",
      "(Iteration 2331 / 2450) loss: 1.287990\n",
      "(Iteration 2341 / 2450) loss: 1.103153\n",
      "(Iteration 2351 / 2450) loss: 1.143767\n",
      "(Iteration 2361 / 2450) loss: 1.201304\n",
      "(Iteration 2371 / 2450) loss: 1.240093\n",
      "(Iteration 2381 / 2450) loss: 1.372017\n",
      "(Iteration 2391 / 2450) loss: 1.306918\n",
      "(Iteration 2401 / 2450) loss: 1.090981\n",
      "(Iteration 2411 / 2450) loss: 1.084555\n",
      "(Iteration 2421 / 2450) loss: 1.198671\n",
      "(Iteration 2431 / 2450) loss: 0.986138\n",
      "(Iteration 2441 / 2450) loss: 1.166703\n",
      "(Epoch 5 / 5) train acc: 0.563000; val_acc: 0.518000\n"
     ]
    }
   ],
   "source": [
    "best_model = None\n",
    "################################################################################\n",
    "# TODO: Train the best FullyConnectedNet that you can on CIFAR-10. You might   #\n",
    "# find batch/layer normalization and dropout useful. Store your best model in  #\n",
    "# the best_model variable.                                                     #\n",
    "################################################################################\n",
    "model = FullyConnectedNet([100, 100, 100, 100, 100], weight_scale=5e-2, normalization='layernorm')\n",
    "\n",
    "solver = Solver(model, data,\n",
    "              num_epochs=5, batch_size=100,\n",
    "              update_rule='adam',\n",
    "              optim_config={\n",
    "                'learning_rate': 1e-3\n",
    "              },\n",
    "              verbose=True)\n",
    "solvers[update_rule] = solver\n",
    "solver.train()\n",
    "best_model = solver.model\n",
    "################################################################################\n",
    "#                              END OF YOUR CODE                                #\n",
    "################################################################################"
   ]
  },
  {
   "cell_type": "markdown",
   "metadata": {
    "colab_type": "text",
    "id": "x526rV0JX1zB"
   },
   "source": [
    "# Test your model (layernorm)!\n",
    "Run your best model on the validation and test sets. You should achieve above 50% accuracy on the validation set."
   ]
  },
  {
   "cell_type": "code",
   "execution_count": 24,
   "metadata": {
    "colab": {
     "autoexec": {
      "startup": false,
      "wait_interval": 0
     }
    },
    "colab_type": "code",
    "id": "WdLn46feX1zD"
   },
   "outputs": [
    {
     "name": "stdout",
     "output_type": "stream",
     "text": [
      "Validation set accuracy:  0.518\n",
      "Test set accuracy:  0.498\n"
     ]
    }
   ],
   "source": [
    "y_test_pred = np.argmax(best_model.loss(data['X_test']), axis=1)\n",
    "y_val_pred = np.argmax(best_model.loss(data['X_val']), axis=1)\n",
    "print('Validation set accuracy: ', (y_val_pred == data['y_val']).mean())\n",
    "print('Test set accuracy: ', (y_test_pred == data['y_test']).mean())"
   ]
  },
  {
   "cell_type": "markdown",
   "metadata": {},
   "source": [
    "# Batchrnorm and dropout"
   ]
  },
  {
   "cell_type": "code",
   "execution_count": 33,
   "metadata": {
    "colab": {
     "autoexec": {
      "startup": false,
      "wait_interval": 0
     }
    },
    "colab_type": "code",
    "id": "IMRwhtdmX1y8",
    "scrolled": true
   },
   "outputs": [
    {
     "name": "stdout",
     "output_type": "stream",
     "text": [
      "(Iteration 1 / 2450) loss: 2.329738\n",
      "(Epoch 0 / 5) train acc: 0.098000; val_acc: 0.104000\n",
      "(Iteration 11 / 2450) loss: 2.216318\n",
      "(Iteration 21 / 2450) loss: 2.085900\n",
      "(Iteration 31 / 2450) loss: 2.068202\n",
      "(Iteration 41 / 2450) loss: 1.962123\n",
      "(Iteration 51 / 2450) loss: 1.918202\n",
      "(Iteration 61 / 2450) loss: 1.900232\n",
      "(Iteration 71 / 2450) loss: 1.928329\n",
      "(Iteration 81 / 2450) loss: 1.920621\n",
      "(Iteration 91 / 2450) loss: 1.834294\n",
      "(Iteration 101 / 2450) loss: 2.007082\n",
      "(Iteration 111 / 2450) loss: 1.847466\n",
      "(Iteration 121 / 2450) loss: 1.790492\n",
      "(Iteration 131 / 2450) loss: 1.751067\n",
      "(Iteration 141 / 2450) loss: 1.960491\n",
      "(Iteration 151 / 2450) loss: 1.840539\n",
      "(Iteration 161 / 2450) loss: 1.734835\n",
      "(Iteration 171 / 2450) loss: 1.755248\n",
      "(Iteration 181 / 2450) loss: 1.800220\n",
      "(Iteration 191 / 2450) loss: 1.758229\n",
      "(Iteration 201 / 2450) loss: 1.662271\n",
      "(Iteration 211 / 2450) loss: 1.697849\n",
      "(Iteration 221 / 2450) loss: 1.928673\n",
      "(Iteration 231 / 2450) loss: 1.711341\n",
      "(Iteration 241 / 2450) loss: 1.756346\n",
      "(Iteration 251 / 2450) loss: 1.845339\n",
      "(Iteration 261 / 2450) loss: 1.747866\n",
      "(Iteration 271 / 2450) loss: 1.738348\n",
      "(Iteration 281 / 2450) loss: 1.857973\n",
      "(Iteration 291 / 2450) loss: 1.642999\n",
      "(Iteration 301 / 2450) loss: 1.799835\n",
      "(Iteration 311 / 2450) loss: 1.751542\n",
      "(Iteration 321 / 2450) loss: 1.687473\n",
      "(Iteration 331 / 2450) loss: 1.773034\n",
      "(Iteration 341 / 2450) loss: 1.729696\n",
      "(Iteration 351 / 2450) loss: 1.681037\n",
      "(Iteration 361 / 2450) loss: 1.758977\n",
      "(Iteration 371 / 2450) loss: 1.641591\n",
      "(Iteration 381 / 2450) loss: 1.782188\n",
      "(Iteration 391 / 2450) loss: 1.748529\n",
      "(Iteration 401 / 2450) loss: 1.723897\n",
      "(Iteration 411 / 2450) loss: 1.743248\n",
      "(Iteration 421 / 2450) loss: 1.751972\n",
      "(Iteration 431 / 2450) loss: 1.689947\n",
      "(Iteration 441 / 2450) loss: 1.751973\n",
      "(Iteration 451 / 2450) loss: 1.702725\n",
      "(Iteration 461 / 2450) loss: 1.829399\n",
      "(Iteration 471 / 2450) loss: 1.561690\n",
      "(Iteration 481 / 2450) loss: 1.736237\n",
      "(Epoch 1 / 5) train acc: 0.476000; val_acc: 0.440000\n",
      "(Iteration 491 / 2450) loss: 1.466826\n",
      "(Iteration 501 / 2450) loss: 1.524556\n",
      "(Iteration 511 / 2450) loss: 1.559633\n",
      "(Iteration 521 / 2450) loss: 1.583319\n",
      "(Iteration 531 / 2450) loss: 1.569853\n",
      "(Iteration 541 / 2450) loss: 1.768240\n",
      "(Iteration 551 / 2450) loss: 1.604423\n",
      "(Iteration 561 / 2450) loss: 1.591924\n",
      "(Iteration 571 / 2450) loss: 1.695324\n",
      "(Iteration 581 / 2450) loss: 1.481865\n",
      "(Iteration 591 / 2450) loss: 1.572404\n",
      "(Iteration 601 / 2450) loss: 1.700028\n",
      "(Iteration 611 / 2450) loss: 1.548019\n",
      "(Iteration 621 / 2450) loss: 1.606302\n",
      "(Iteration 631 / 2450) loss: 1.652724\n",
      "(Iteration 641 / 2450) loss: 1.464322\n",
      "(Iteration 651 / 2450) loss: 1.669812\n",
      "(Iteration 661 / 2450) loss: 1.681716\n",
      "(Iteration 671 / 2450) loss: 1.653928\n",
      "(Iteration 681 / 2450) loss: 1.572747\n",
      "(Iteration 691 / 2450) loss: 1.541906\n",
      "(Iteration 701 / 2450) loss: 1.601028\n",
      "(Iteration 711 / 2450) loss: 1.729056\n",
      "(Iteration 721 / 2450) loss: 1.626174\n",
      "(Iteration 731 / 2450) loss: 1.550845\n",
      "(Iteration 741 / 2450) loss: 1.929248\n",
      "(Iteration 751 / 2450) loss: 1.534894\n",
      "(Iteration 761 / 2450) loss: 1.470227\n",
      "(Iteration 771 / 2450) loss: 1.677450\n",
      "(Iteration 781 / 2450) loss: 1.575637\n",
      "(Iteration 791 / 2450) loss: 1.539140\n",
      "(Iteration 801 / 2450) loss: 1.592135\n",
      "(Iteration 811 / 2450) loss: 1.471361\n",
      "(Iteration 821 / 2450) loss: 1.509736\n",
      "(Iteration 831 / 2450) loss: 1.674849\n",
      "(Iteration 841 / 2450) loss: 1.606047\n",
      "(Iteration 851 / 2450) loss: 1.568503\n",
      "(Iteration 861 / 2450) loss: 1.490911\n",
      "(Iteration 871 / 2450) loss: 1.475348\n",
      "(Iteration 881 / 2450) loss: 1.541059\n",
      "(Iteration 891 / 2450) loss: 1.680047\n",
      "(Iteration 901 / 2450) loss: 1.693529\n",
      "(Iteration 911 / 2450) loss: 1.706395\n",
      "(Iteration 921 / 2450) loss: 1.393962\n",
      "(Iteration 931 / 2450) loss: 1.546379\n",
      "(Iteration 941 / 2450) loss: 1.503444\n",
      "(Iteration 951 / 2450) loss: 1.555031\n",
      "(Iteration 961 / 2450) loss: 1.595524\n",
      "(Iteration 971 / 2450) loss: 1.591138\n",
      "(Epoch 2 / 5) train acc: 0.495000; val_acc: 0.491000\n",
      "(Iteration 981 / 2450) loss: 1.858913\n",
      "(Iteration 991 / 2450) loss: 1.535191\n",
      "(Iteration 1001 / 2450) loss: 1.582761\n",
      "(Iteration 1011 / 2450) loss: 1.865690\n",
      "(Iteration 1021 / 2450) loss: 1.426557\n",
      "(Iteration 1031 / 2450) loss: 1.604251\n",
      "(Iteration 1041 / 2450) loss: 1.755760\n",
      "(Iteration 1051 / 2450) loss: 1.734800\n",
      "(Iteration 1061 / 2450) loss: 1.645091\n",
      "(Iteration 1071 / 2450) loss: 1.598001\n",
      "(Iteration 1081 / 2450) loss: 1.499381\n",
      "(Iteration 1091 / 2450) loss: 1.645285\n",
      "(Iteration 1101 / 2450) loss: 1.519155\n",
      "(Iteration 1111 / 2450) loss: 1.521947\n",
      "(Iteration 1121 / 2450) loss: 1.677102\n",
      "(Iteration 1131 / 2450) loss: 1.536129\n",
      "(Iteration 1141 / 2450) loss: 1.655704\n",
      "(Iteration 1151 / 2450) loss: 1.646619\n",
      "(Iteration 1161 / 2450) loss: 1.522754\n",
      "(Iteration 1171 / 2450) loss: 1.494913\n",
      "(Iteration 1181 / 2450) loss: 1.527489\n",
      "(Iteration 1191 / 2450) loss: 1.579642\n",
      "(Iteration 1201 / 2450) loss: 1.453092\n",
      "(Iteration 1211 / 2450) loss: 1.574696\n",
      "(Iteration 1221 / 2450) loss: 1.549649\n",
      "(Iteration 1231 / 2450) loss: 1.402850\n",
      "(Iteration 1241 / 2450) loss: 1.739638\n",
      "(Iteration 1251 / 2450) loss: 1.611006\n",
      "(Iteration 1261 / 2450) loss: 1.504058\n",
      "(Iteration 1271 / 2450) loss: 1.428105\n",
      "(Iteration 1281 / 2450) loss: 1.450612\n",
      "(Iteration 1291 / 2450) loss: 1.525866\n",
      "(Iteration 1301 / 2450) loss: 1.523469\n",
      "(Iteration 1311 / 2450) loss: 1.607196\n",
      "(Iteration 1321 / 2450) loss: 1.639315\n",
      "(Iteration 1331 / 2450) loss: 1.603703\n",
      "(Iteration 1341 / 2450) loss: 1.571401\n",
      "(Iteration 1351 / 2450) loss: 1.561242\n",
      "(Iteration 1361 / 2450) loss: 1.410591\n",
      "(Iteration 1371 / 2450) loss: 1.502802\n",
      "(Iteration 1381 / 2450) loss: 1.503588\n",
      "(Iteration 1391 / 2450) loss: 1.544047\n",
      "(Iteration 1401 / 2450) loss: 1.544900\n",
      "(Iteration 1411 / 2450) loss: 1.613197\n",
      "(Iteration 1421 / 2450) loss: 1.559919\n",
      "(Iteration 1431 / 2450) loss: 1.394179\n",
      "(Iteration 1441 / 2450) loss: 1.507965\n",
      "(Iteration 1451 / 2450) loss: 1.384421\n",
      "(Iteration 1461 / 2450) loss: 1.608349\n",
      "(Epoch 3 / 5) train acc: 0.500000; val_acc: 0.488000\n",
      "(Iteration 1471 / 2450) loss: 1.663790\n",
      "(Iteration 1481 / 2450) loss: 1.418353\n",
      "(Iteration 1491 / 2450) loss: 1.402578\n",
      "(Iteration 1501 / 2450) loss: 1.527688\n",
      "(Iteration 1511 / 2450) loss: 1.716329\n",
      "(Iteration 1521 / 2450) loss: 1.553758\n",
      "(Iteration 1531 / 2450) loss: 1.529869\n",
      "(Iteration 1541 / 2450) loss: 1.397460\n",
      "(Iteration 1551 / 2450) loss: 1.485613\n",
      "(Iteration 1561 / 2450) loss: 1.417128\n",
      "(Iteration 1571 / 2450) loss: 1.579976\n",
      "(Iteration 1581 / 2450) loss: 1.625950\n",
      "(Iteration 1591 / 2450) loss: 1.530059\n",
      "(Iteration 1601 / 2450) loss: 1.467912\n",
      "(Iteration 1611 / 2450) loss: 1.552358\n",
      "(Iteration 1621 / 2450) loss: 1.476718\n",
      "(Iteration 1631 / 2450) loss: 1.649215\n",
      "(Iteration 1641 / 2450) loss: 1.577372\n",
      "(Iteration 1651 / 2450) loss: 1.395218\n",
      "(Iteration 1661 / 2450) loss: 1.603343\n",
      "(Iteration 1671 / 2450) loss: 1.456975\n",
      "(Iteration 1681 / 2450) loss: 1.395751\n",
      "(Iteration 1691 / 2450) loss: 1.624145\n",
      "(Iteration 1701 / 2450) loss: 1.435388\n",
      "(Iteration 1711 / 2450) loss: 1.432426\n",
      "(Iteration 1721 / 2450) loss: 1.472849\n",
      "(Iteration 1731 / 2450) loss: 1.481603\n",
      "(Iteration 1741 / 2450) loss: 1.586261\n",
      "(Iteration 1751 / 2450) loss: 1.420539\n",
      "(Iteration 1761 / 2450) loss: 1.312469\n",
      "(Iteration 1771 / 2450) loss: 1.537812\n",
      "(Iteration 1781 / 2450) loss: 1.650019\n",
      "(Iteration 1791 / 2450) loss: 1.489405\n",
      "(Iteration 1801 / 2450) loss: 1.425503\n",
      "(Iteration 1811 / 2450) loss: 1.478929\n",
      "(Iteration 1821 / 2450) loss: 1.489720\n",
      "(Iteration 1831 / 2450) loss: 1.363279\n",
      "(Iteration 1841 / 2450) loss: 1.429631\n",
      "(Iteration 1851 / 2450) loss: 1.551129\n",
      "(Iteration 1861 / 2450) loss: 1.368562\n",
      "(Iteration 1871 / 2450) loss: 1.565271\n",
      "(Iteration 1881 / 2450) loss: 1.577477\n",
      "(Iteration 1891 / 2450) loss: 1.494545\n",
      "(Iteration 1901 / 2450) loss: 1.253680\n",
      "(Iteration 1911 / 2450) loss: 1.486190\n",
      "(Iteration 1921 / 2450) loss: 1.526664\n",
      "(Iteration 1931 / 2450) loss: 1.546617\n",
      "(Iteration 1941 / 2450) loss: 1.687346\n",
      "(Iteration 1951 / 2450) loss: 1.327022\n",
      "(Epoch 4 / 5) train acc: 0.533000; val_acc: 0.511000\n",
      "(Iteration 1961 / 2450) loss: 1.340286\n",
      "(Iteration 1971 / 2450) loss: 1.393121\n",
      "(Iteration 1981 / 2450) loss: 1.593880\n",
      "(Iteration 1991 / 2450) loss: 1.462814\n",
      "(Iteration 2001 / 2450) loss: 1.620693\n",
      "(Iteration 2011 / 2450) loss: 1.435564\n",
      "(Iteration 2021 / 2450) loss: 1.447432\n",
      "(Iteration 2031 / 2450) loss: 1.706554\n",
      "(Iteration 2041 / 2450) loss: 1.405540\n",
      "(Iteration 2051 / 2450) loss: 1.437524\n",
      "(Iteration 2061 / 2450) loss: 1.471207\n",
      "(Iteration 2071 / 2450) loss: 1.501807\n"
     ]
    },
    {
     "name": "stdout",
     "output_type": "stream",
     "text": [
      "(Iteration 2081 / 2450) loss: 1.582554\n",
      "(Iteration 2091 / 2450) loss: 1.738818\n",
      "(Iteration 2101 / 2450) loss: 1.450666\n",
      "(Iteration 2111 / 2450) loss: 1.727814\n",
      "(Iteration 2121 / 2450) loss: 1.338234\n",
      "(Iteration 2131 / 2450) loss: 1.394091\n",
      "(Iteration 2141 / 2450) loss: 1.357516\n",
      "(Iteration 2151 / 2450) loss: 1.374613\n",
      "(Iteration 2161 / 2450) loss: 1.388592\n",
      "(Iteration 2171 / 2450) loss: 1.568822\n",
      "(Iteration 2181 / 2450) loss: 1.389006\n",
      "(Iteration 2191 / 2450) loss: 1.396931\n",
      "(Iteration 2201 / 2450) loss: 1.406045\n",
      "(Iteration 2211 / 2450) loss: 1.376230\n",
      "(Iteration 2221 / 2450) loss: 1.429192\n",
      "(Iteration 2231 / 2450) loss: 1.413640\n",
      "(Iteration 2241 / 2450) loss: 1.409076\n",
      "(Iteration 2251 / 2450) loss: 1.434086\n",
      "(Iteration 2261 / 2450) loss: 1.496261\n",
      "(Iteration 2271 / 2450) loss: 1.422321\n",
      "(Iteration 2281 / 2450) loss: 1.342260\n",
      "(Iteration 2291 / 2450) loss: 1.499609\n",
      "(Iteration 2301 / 2450) loss: 1.548214\n",
      "(Iteration 2311 / 2450) loss: 1.422178\n",
      "(Iteration 2321 / 2450) loss: 1.346548\n",
      "(Iteration 2331 / 2450) loss: 1.489745\n",
      "(Iteration 2341 / 2450) loss: 1.726827\n",
      "(Iteration 2351 / 2450) loss: 1.325908\n",
      "(Iteration 2361 / 2450) loss: 1.622019\n",
      "(Iteration 2371 / 2450) loss: 1.530350\n",
      "(Iteration 2381 / 2450) loss: 1.525983\n",
      "(Iteration 2391 / 2450) loss: 1.429512\n",
      "(Iteration 2401 / 2450) loss: 1.363691\n",
      "(Iteration 2411 / 2450) loss: 1.483560\n",
      "(Iteration 2421 / 2450) loss: 1.576574\n",
      "(Iteration 2431 / 2450) loss: 1.495951\n",
      "(Iteration 2441 / 2450) loss: 1.495621\n",
      "(Epoch 5 / 5) train acc: 0.535000; val_acc: 0.506000\n"
     ]
    }
   ],
   "source": [
    "best_model = None\n",
    "################################################################################\n",
    "# TODO: Train the best FullyConnectedNet that you can on CIFAR-10. You might   #\n",
    "# find batch/layer normalization and dropout useful. Store your best model in  #\n",
    "# the best_model variable.                                                     #\n",
    "################################################################################\n",
    "model = FullyConnectedNet([100, 100, 100, 100, 100], weight_scale=5e-2, normalization='batchnorm', dropout=0.85)\n",
    "\n",
    "solver = Solver(model, data,\n",
    "              num_epochs=5, batch_size=100,\n",
    "              update_rule='adam',\n",
    "              optim_config={\n",
    "                'learning_rate': 1e-3\n",
    "              },\n",
    "              verbose=True)\n",
    "solvers[update_rule] = solver\n",
    "solver.train()\n",
    "best_model = solver.model\n",
    "################################################################################\n",
    "#                              END OF YOUR CODE                                #\n",
    "################################################################################"
   ]
  },
  {
   "cell_type": "markdown",
   "metadata": {
    "colab_type": "text",
    "id": "x526rV0JX1zB"
   },
   "source": [
    "# Test your model (batchnorm and dropout)!\n",
    "Run your best model on the validation and test sets. You should achieve above 50% accuracy on the validation set."
   ]
  },
  {
   "cell_type": "code",
   "execution_count": 34,
   "metadata": {
    "colab": {
     "autoexec": {
      "startup": false,
      "wait_interval": 0
     }
    },
    "colab_type": "code",
    "id": "WdLn46feX1zD"
   },
   "outputs": [
    {
     "name": "stdout",
     "output_type": "stream",
     "text": [
      "Validation set accuracy:  0.51\n",
      "Test set accuracy:  0.49\n"
     ]
    }
   ],
   "source": [
    "y_test_pred = np.argmax(best_model.loss(data['X_test']), axis=1)\n",
    "y_val_pred = np.argmax(best_model.loss(data['X_val']), axis=1)\n",
    "print('Validation set accuracy: ', (y_val_pred == data['y_val']).mean())\n",
    "print('Test set accuracy: ', (y_test_pred == data['y_test']).mean())"
   ]
  }
 ],
 "metadata": {
  "colab": {
   "default_view": {},
   "name": "FullyConnectedNets_My.ipynb",
   "provenance": [],
   "version": "0.3.2",
   "views": {}
  },
  "kernelspec": {
   "display_name": "Python 3",
   "language": "python",
   "name": "python3"
  },
  "language_info": {
   "codemirror_mode": {
    "name": "ipython",
    "version": 3
   },
   "file_extension": ".py",
   "mimetype": "text/x-python",
   "name": "python",
   "nbconvert_exporter": "python",
   "pygments_lexer": "ipython3",
   "version": "3.6.4"
  }
 },
 "nbformat": 4,
 "nbformat_minor": 1
}
